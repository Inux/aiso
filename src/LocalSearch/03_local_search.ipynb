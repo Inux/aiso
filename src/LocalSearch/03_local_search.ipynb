{
 "cells": [
  {
   "cell_type": "markdown",
   "metadata": {},
   "source": [
    "# Testat Local Search\n",
    "\n",
    "## Info\n",
    "* All Questions answerd in the Document itself. \n",
    "* Only hill climbing done so far (but as requested in Testat)\n",
    "* This exercise was done in a Team (Michael Nebroj & Steve Ineichen)\n",
    "* Code can be found on https://github.com/Inux/aiso"
   ]
  },
  {
   "cell_type": "markdown",
   "metadata": {},
   "source": [
    "##  Local Search Algorithms\n",
    "\n",
    "We have seen the following local search algorithms in class:\n",
    "\n",
    "1. Hill Climbing\n",
    "1. Genetic Algorithm\n",
    "1. Simulated Annealing\n",
    "\n",
    "Two test these algorithms, we want to find the shortest path connecting several cities. Here, we can simplify and consider the aerial distance between two cities, so that we don't have to care about how to get from one city to another. This problem is known as the \"Traveling Sales(man) Problem\".\n",
    "\n",
    "Implement the algorithms to find the shortest path connecting a list of cities of your choice! You can use the following helper functions to plot your path and to evaluate a path cost."
   ]
  },
  {
   "cell_type": "code",
   "execution_count": 204,
   "metadata": {},
   "outputs": [],
   "source": [
    "import matplotlib.pyplot as plt\n",
    "\n",
    "def plot_path(path, sbb):\n",
    "    fig = plt.figure(figsize=(10,10))\n",
    "    last_city = \"\"\n",
    "    hub_coordinates = sbb.get_hub_locations()\n",
    "    count = 0\n",
    "    for city in path:\n",
    "        if last_city == \"\":\n",
    "            first_city = city;\n",
    "        if last_city != \"\":\n",
    "            if count == 0:\n",
    "                plt.plot([hub_coordinates[city][0], hub_coordinates[last_city][0]], [hub_coordinates[city][1], hub_coordinates[last_city][1]], marker='.', color='blue')\n",
    "            else:\n",
    "                plt.plot([hub_coordinates[city][0], hub_coordinates[last_city][0]], [hub_coordinates[city][1], hub_coordinates[last_city][1]], marker='.', color='black')\n",
    "        plt.text(hub_coordinates[city][0]-0.75, hub_coordinates[city][1]+1.0, city+\" (\"+str(count)+\")\", fontsize=9)\n",
    "        last_city = city;\n",
    "        \n",
    "        count = count + 1\n",
    "                \n",
    "    plt.plot([hub_coordinates[first_city][0], hub_coordinates[last_city][0]], [hub_coordinates[first_city][1], hub_coordinates[last_city][1]], marker='.', color='green')\n",
    "    plt.axis('equal')\n",
    "\n",
    "def evaluate_path(path, sbb):\n",
    "    l = list(path.copy())\n",
    "    length = 0\n",
    "    for i in range(len(l)-1):\n",
    "        length = length + sbb.get_distance_between(l[i], l[i+1])\n",
    "\n",
    "    return length\n"
   ]
  },
  {
   "cell_type": "markdown",
   "metadata": {},
   "source": [
    "Let's define the cities we want to connect and viualize our initial path."
   ]
  },
  {
   "cell_type": "code",
   "execution_count": 205,
   "metadata": {},
   "outputs": [
    {
     "name": "stdout",
     "output_type": "stream",
     "text": [
      "successfully imported 2787 hubs\n",
      "successfully imported 401 train lines\n",
      "Bern - Luzern: path cost = 87.69281937407082\n",
      "Luzern - Bern: path cost = 87.69281937407082\n",
      "Luzern - Bern - Luzern: path cost = 175.38563874814164\n"
     ]
    },
    {
     "data": {
      "image/png": "[encoded data removed]",
      "text/plain": [
       "<matplotlib.figure.Figure at 0x1178357f0>"
      ]
     },
     "metadata": {},
     "output_type": "display_data"
    }
   ],
   "source": [
    "from sbb import SBB\n",
    "\n",
    "sbb = SBB()\n",
    "sbb.importData('linie-mit-betriebspunkten.json')\n",
    "\n",
    "path = ['Bern', 'Luzern']\n",
    "print(\"Bern - Luzern: path cost = \" + str(evaluate_path(path, sbb)))\n",
    "\n",
    "path = ['Luzern', 'Bern']\n",
    "print(\"Luzern - Bern: path cost = \" + str(evaluate_path(path, sbb)))\n",
    "\n",
    "path = ['Luzern', 'Bern', 'Luzern']\n",
    "print(\"Luzern - Bern - Luzern: path cost = \" + str(evaluate_path(path, sbb)))\n",
    "\n",
    "plot_path(path, sbb)\n"
   ]
  },
  {
   "cell_type": "markdown",
   "metadata": {},
   "source": [
    "This is defenitly not the best way how to connect the cities. Let's try our first local search algorithm."
   ]
  },
  {
   "cell_type": "markdown",
   "metadata": {},
   "source": [
    "### Hill Climbing\n",
    "\n",
    "If we have 15 cities to connect, we have 15! different possibilities. This is already bigger than 10^12. You can easily see that the problem becomes complex very quickly. We will have problems to systematically explore the search space. Therefore, we will use local search algorithms to tackle this problem.\n",
    "\n",
    "Local search algorithms start with a solution and try to improve the solution by considering the neighbouring states. The best neighbour will be chosen until no better can be found.\n",
    "\n",
    "Here, we try to minimize the distance of our path. So instead of hill climbing, we will do the opposite. Instead of trying to find the highest hill (maximum), we're looking at the deepest valley (minimum). But that's not a concern, we can easily change the sign to switch from a maximization  to a minimization problem.\n",
    "\n",
    "*Hints:*\n",
    "- use the `evaluate_path()` function we have defined earlier\n",
    "- make sure to copy lists or sets properly: `current_path = path.copy()`\n",
    "- you can convert sets to lists by `list(my_set)`\n",
    "- a neighbouring path can be found by switching the position of two cities"
   ]
  },
  {
   "cell_type": "code",
   "execution_count": 206,
   "metadata": {},
   "outputs": [],
   "source": [
    "import sys \n",
    "import random\n",
    "\n",
    "def hill_climbing_TSP(path, sbb): \n",
    "    search_path = list(path).copy()\n",
    "    \n",
    "    result = search_path.copy()\n",
    "    new_result = result.copy()\n",
    "    \n",
    "    max_iterations = len(path)*10\n",
    "    find_result_attempts = len(path)\n",
    "    remaining_attempts = find_result_attempts\n",
    "    \n",
    "    iteration_count = 0\n",
    "    \n",
    "    print(\"Max Iterations: {0}\".format(max_iterations))\n",
    "    print(\"Max Attempts: {0}\".format(find_result_attempts))\n",
    "    print(\"Remaining Attempts: {0}\".format(remaining_attempts))\n",
    "    print(\"\")\n",
    "    \n",
    "    for iteration in range(max_iterations):\n",
    "        iteration_count = iteration_count + 1\n",
    "        \n",
    "        # https://stackoverflow.com/questions/14971181/hill-climbing-search-algorithm-applied-to-travelling-salesman\n",
    "        #\n",
    "        # - start with given path, maybe its a good one already\n",
    "        # - len(path)-2 because we dont want to change start and end position\n",
    "        # \n",
    "        for index in range(0, len(path)-2):\n",
    "            if index > 0: #check given path normally, without swapping\n",
    "                new_result[index], new_result[index+1] = new_result[index+1], new_result[index]\n",
    "            \n",
    "            if evaluate_path(new_result, sbb) < evaluate_path(result, sbb): \n",
    "                print(\"INFO: sp_copy: {0} < result: {1}\".format(evaluate_path(new_result, sbb), evaluate_path(new_result, sbb)))\n",
    "                result = new_result.copy()\n",
    "                print(\"INFO: new result -> score: {0}, path: {1}\".format(evaluate_path(result, sbb), result))\n",
    "            else:\n",
    "                #no better result\n",
    "                remaining_attempts = remaining_attempts - 1\n",
    "\n",
    "                #randomize if shifting brings no better result\n",
    "                if remaining_attempts <= 0:\n",
    "                    print(\"ERROR: {0} times no better result! Randomize!\".format(find_result_attempts-remaining_attempts))\n",
    "                    r = new_result[1:(len(new_result)-1)]\n",
    "                    random.shuffle(r)\n",
    "                    new_result[1:(len(new_result)-1)] = r\n",
    "\n",
    "                    #give again same amount of attempts\n",
    "                    remaining_attempts = find_result_attempts \n",
    "            \n",
    "    return result, iteration_count\n"
   ]
  },
  {
   "cell_type": "code",
   "execution_count": 207,
   "metadata": {},
   "outputs": [
    {
     "name": "stdout",
     "output_type": "stream",
     "text": [
      "Max Iterations: 80\n",
      "Max Attempts: 8\n",
      "Remaining Attempts: 8\n",
      "\n",
      "INFO: sp_copy: 806.4269293088845 < result: 806.4269293088845\n",
      "INFO: new result -> score: 806.4269293088845, path: ['Bern', 'Liestal', 'Sargans', 'Lugano', 'Locarno', 'Luzern', 'Schaan-Vaduz', 'Zermatt']\n",
      "INFO: sp_copy: 712.5938229521732 < result: 712.5938229521732\n",
      "INFO: new result -> score: 712.5938229521732, path: ['Bern', 'Liestal', 'Lugano', 'Locarno', 'Luzern', 'Sargans', 'Schaan-Vaduz', 'Zermatt']\n",
      "INFO: sp_copy: 707.554267062716 < result: 707.554267062716\n",
      "INFO: new result -> score: 707.554267062716, path: ['Bern', 'Liestal', 'Lugano', 'Locarno', 'Luzern', 'Schaan-Vaduz', 'Sargans', 'Zermatt']\n",
      "ERROR: 8 times no better result! Randomize!\n",
      "ERROR: 8 times no better result! Randomize!\n",
      "ERROR: 8 times no better result! Randomize!\n",
      "ERROR: 8 times no better result! Randomize!\n",
      "ERROR: 8 times no better result! Randomize!\n",
      "ERROR: 8 times no better result! Randomize!\n",
      "ERROR: 8 times no better result! Randomize!\n",
      "ERROR: 8 times no better result! Randomize!\n",
      "ERROR: 8 times no better result! Randomize!\n",
      "ERROR: 8 times no better result! Randomize!\n",
      "ERROR: 8 times no better result! Randomize!\n",
      "ERROR: 8 times no better result! Randomize!\n",
      "ERROR: 8 times no better result! Randomize!\n",
      "ERROR: 8 times no better result! Randomize!\n",
      "ERROR: 8 times no better result! Randomize!\n",
      "INFO: sp_copy: 605.3501579136067 < result: 605.3501579136067\n",
      "INFO: new result -> score: 605.3501579136067, path: ['Bern', 'Liestal', 'Luzern', 'Locarno', 'Sargans', 'Schaan-Vaduz', 'Lugano', 'Zermatt']\n",
      "INFO: sp_copy: 605.1713138968423 < result: 605.1713138968423\n",
      "INFO: new result -> score: 605.1713138968423, path: ['Bern', 'Liestal', 'Luzern', 'Locarno', 'Schaan-Vaduz', 'Sargans', 'Lugano', 'Zermatt']\n",
      "ERROR: 8 times no better result! Randomize!\n",
      "ERROR: 8 times no better result! Randomize!\n",
      "INFO: sp_copy: 597.2241286025006 < result: 597.2241286025006\n",
      "INFO: new result -> score: 597.2241286025006, path: ['Bern', 'Liestal', 'Luzern', 'Locarno', 'Lugano', 'Schaan-Vaduz', 'Sargans', 'Zermatt']\n",
      "ERROR: 8 times no better result! Randomize!\n",
      "ERROR: 8 times no better result! Randomize!\n",
      "ERROR: 8 times no better result! Randomize!\n",
      "ERROR: 8 times no better result! Randomize!\n",
      "ERROR: 8 times no better result! Randomize!\n",
      "INFO: sp_copy: 525.0462844915054 < result: 525.0462844915054\n",
      "INFO: new result -> score: 525.0462844915054, path: ['Bern', 'Liestal', 'Luzern', 'Sargans', 'Schaan-Vaduz', 'Locarno', 'Lugano', 'Zermatt']\n",
      "INFO: sp_copy: 518.1667903253285 < result: 518.1667903253285\n",
      "INFO: new result -> score: 518.1667903253285, path: ['Bern', 'Liestal', 'Luzern', 'Schaan-Vaduz', 'Sargans', 'Locarno', 'Lugano', 'Zermatt']\n",
      "ERROR: 8 times no better result! Randomize!\n",
      "ERROR: 8 times no better result! Randomize!\n",
      "ERROR: 8 times no better result! Randomize!\n",
      "ERROR: 8 times no better result! Randomize!\n",
      "ERROR: 8 times no better result! Randomize!\n",
      "ERROR: 8 times no better result! Randomize!\n",
      "ERROR: 8 times no better result! Randomize!\n",
      "ERROR: 8 times no better result! Randomize!\n",
      "ERROR: 8 times no better result! Randomize!\n",
      "ERROR: 8 times no better result! Randomize!\n",
      "ERROR: 8 times no better result! Randomize!\n",
      "ERROR: 8 times no better result! Randomize!\n",
      "ERROR: 8 times no better result! Randomize!\n",
      "ERROR: 8 times no better result! Randomize!\n",
      "ERROR: 8 times no better result! Randomize!\n",
      "ERROR: 8 times no better result! Randomize!\n",
      "ERROR: 8 times no better result! Randomize!\n",
      "ERROR: 8 times no better result! Randomize!\n",
      "ERROR: 8 times no better result! Randomize!\n",
      "ERROR: 8 times no better result! Randomize!\n",
      "ERROR: 8 times no better result! Randomize!\n",
      "ERROR: 8 times no better result! Randomize!\n",
      "ERROR: 8 times no better result! Randomize!\n",
      "ERROR: 8 times no better result! Randomize!\n",
      "ERROR: 8 times no better result! Randomize!\n",
      "ERROR: 8 times no better result! Randomize!\n",
      "ERROR: 8 times no better result! Randomize!\n",
      "ERROR: 8 times no better result! Randomize!\n",
      "ERROR: 8 times no better result! Randomize!\n",
      "ERROR: 8 times no better result! Randomize!\n",
      "ERROR: 8 times no better result! Randomize!\n",
      "ERROR: 8 times no better result! Randomize!\n",
      "ERROR: 8 times no better result! Randomize!\n",
      "ERROR: 8 times no better result! Randomize!\n",
      "ERROR: 8 times no better result! Randomize!\n",
      "ERROR: 8 times no better result! Randomize!\n",
      "ERROR: 8 times no better result! Randomize!\n",
      "\n",
      "Input Path:    ['Bern', 'Sargans', 'Liestal', 'Lugano', 'Locarno', 'Luzern', 'Schaan-Vaduz', 'Zermatt']\n",
      "Result Path:   ['Bern', 'Liestal', 'Luzern', 'Schaan-Vaduz', 'Sargans', 'Locarno', 'Lugano', 'Zermatt']\n",
      "Input Length:  1022.4946103114211\n",
      "Result Length: 518.1667903253285\n",
      "Iterations:    80\n"
     ]
    },
    {
     "data": {
      "image/png": "[encoded data removed]",
      "text/plain": [
       "<matplotlib.figure.Figure at 0x11d91df98>"
      ]
     },
     "metadata": {},
     "output_type": "display_data"
    }
   ],
   "source": [
    "path = ['Bern', 'Sargans', 'Liestal', 'Lugano', 'Locarno', 'Luzern', 'Schaan-Vaduz', 'Zermatt']\n",
    "\n",
    "best_path, iterations = hill_climbing_TSP(path, sbb)\n",
    "\n",
    "plot_path(best_path, sbb)\n",
    "print(\"\")\n",
    "print(\"Input Path:    \" + str(path))\n",
    "print(\"Result Path:   \" + str(best_path))\n",
    "print(\"Input Length:  \" + str(evaluate_path(path,sbb)))\n",
    "print(\"Result Length: \" + str(evaluate_path(best_path,sbb)))\n",
    "print(\"Iterations:    \" + str(iterations))"
   ]
  },
  {
   "cell_type": "markdown",
   "metadata": {},
   "source": [
    "Oh, what happend here? Is this the best we can get?\n",
    "* (Answer Q1) With a simple implementation we do not find the optimal Solution. Therefore a randomization was implemented when we end up in a local minimum. (Start and end position are not randomized). It is far better with this optimization but it is still not a optimal solution.\n",
    "\n",
    "- Why is this so? \n",
    "    * (Answer Q2) We end up in a local minimum\n",
    "- How many steps did we need to get to this solution?\n",
    "    * When Start and End position should stay then range(0, len(path)-2) -> max swap steps to try (with initial path)\n",
    "- Can you suggest a method to improve the hill climbing algorithm?\n",
    "    * (Answer Q3) Randomization (see code example)"
   ]
  },
  {
   "cell_type": "markdown",
   "metadata": {},
   "source": [
    "### Genetic Algorithm \n",
    "\n",
    "Genetic algorithms (or GA) are inspired by natural evolution and are particularly useful in optimization and search problems with large state spaces.\n",
    "\n",
    "Given a problem, algorithms in the domain make use of a *population* of solutions (also called *states*), where each solution/state represents a feasible solution. At each iteration (often called *generation*), the population gets updated using methods inspired by biology and evolution, like *crossover*, *mutation* and *natural selection*.\n",
    "\n",
    "A genetic algorithm works in the following way:\n",
    "\n",
    "1) Initialize random population.\n",
    "\n",
    "2) Calculate population fitness.\n",
    "\n",
    "3) Select individuals for mating.\n",
    "\n",
    "4) Mate selected individuals to produce new population.\n",
    "\n",
    "     * Random chance to mutate individuals.\n",
    "\n",
    "5) Repeat from step 2) until an individual is fit enough or the maximum number of iterations was reached.\n",
    "\n",
    "Below, you can find some helper functions to implement your genetic algorithm.\n",
    "\n",
    "First, create a dictionnary that maps a letter to a city name."
   ]
  },
  {
   "cell_type": "markdown",
   "metadata": {},
   "source": [
    "Our solution will be a path through all the cities. To simplify, we will encode each city with a letter from the alphabet. So your first initial path through the cities will have the code \"ABCDEFGHIJK..\". We can easily convert a letter to a city by `letter2city('A')` or `city2letter('Rotkreuz')`."
   ]
  },
  {
   "cell_type": "code",
   "execution_count": 208,
   "metadata": {},
   "outputs": [
    {
     "name": "stdout",
     "output_type": "stream",
     "text": [
      "the path has the following code : \n",
      "['A', 'B', 'C', 'D', 'E', 'F', 'G', 'H']\n"
     ]
    }
   ],
   "source": [
    "import string\n",
    "\n",
    "number_of_cities = len(path)\n",
    "letter2city = dict()\n",
    "city2letter = dict()\n",
    "for i in range(number_of_cities):\n",
    "    letter2city[string.ascii_uppercase[i]] = list(path)[i]\n",
    "    city2letter[list(path)[i]] = string.ascii_uppercase[i]\n",
    "    \n",
    "def path2string(path):\n",
    "    s = \"\"\n",
    "    for city in path:\n",
    "        s+=city2letter[city]\n",
    "    return list(s)\n",
    "\n",
    "def path2cities(path):\n",
    "    s = list()\n",
    "    for letter in path:\n",
    "        s.append(letter2city[letter])\n",
    "    return s\n",
    "\n",
    "path_code = path2string(path)\n",
    "print(\"the path has the following code : \")\n",
    "print(path_code)"
   ]
  },
  {
   "cell_type": "markdown",
   "metadata": {},
   "source": [
    "Let's inizialize a random population:"
   ]
  },
  {
   "cell_type": "code",
   "execution_count": 209,
   "metadata": {},
   "outputs": [],
   "source": [
    "import random\n",
    "\n",
    "def init_population(pop_number, cities):\n",
    "    \"\"\"Initializes population for genetic algorithm\n",
    "    pop_number  :  Number of individuals in population\n",
    "    cities      :  cities in letter code \"\"\"\n",
    "\n"
   ]
  },
  {
   "cell_type": "markdown",
   "metadata": {},
   "source": [
    "We can calculate the fitness of a path using the evaluate_path function. Note that shorter paths are considered fitter."
   ]
  },
  {
   "cell_type": "code",
   "execution_count": 210,
   "metadata": {},
   "outputs": [
    {
     "ename": "SyntaxError",
     "evalue": "unexpected EOF while parsing (<ipython-input-210-3263e2f4dfc5>, line 1)",
     "output_type": "error",
     "traceback": [
      "\u001b[0;36m  File \u001b[0;32m\"<ipython-input-210-3263e2f4dfc5>\"\u001b[0;36m, line \u001b[0;32m1\u001b[0m\n\u001b[0;31m    def fitness(sample):\u001b[0m\n\u001b[0m                        ^\u001b[0m\n\u001b[0;31mSyntaxError\u001b[0m\u001b[0;31m:\u001b[0m unexpected EOF while parsing\n"
     ]
    }
   ],
   "source": [
    "def fitness(sample):\n"
   ]
  },
  {
   "cell_type": "markdown",
   "metadata": {},
   "source": [
    "Create a function to select two individuals for mating. Fitter individuals are more likely to be selected for reproduction than less fit individuals. Therefore, we have to calculate the weights of each indiviudal that corresponds to the likelyhood of being chosen for reproduction."
   ]
  },
  {
   "cell_type": "code",
   "execution_count": 211,
   "metadata": {},
   "outputs": [
    {
     "name": "stdout",
     "output_type": "stream",
     "text": [
      "None\n"
     ]
    }
   ],
   "source": [
    "import random\n",
    "from random import choices\n",
    "\n",
    "\n",
    "def calculate_weights(population):\n",
    "    # calculate the weight of each individual\n",
    "    return\n",
    "\n",
    "\n",
    "def select(population, weights):\n",
    "    # return two individuals for reproduction\n",
    "    # fitter individuals should be more likely to be selected\n",
    "    # hint: use random.choices to chose from the population based on the weights of each individual\n",
    "    return\n",
    "\n",
    "population = init_population(10, path_code)\n",
    "weights = calculate_weights(population)\n",
    "print(select(population, weights))"
   ]
  },
  {
   "cell_type": "markdown",
   "metadata": {},
   "source": [
    "Now that we can select two individuals, we make them reproduce using crossover and mutation. We need to consider that we want to visit every city exactly once. For example, for the crossover, you can take a random lenght of individual 1 and fill up the remaining cities based on the order of the unvisited cities in individual 2."
   ]
  },
  {
   "cell_type": "code",
   "execution_count": 212,
   "metadata": {},
   "outputs": [
    {
     "name": "stdout",
     "output_type": "stream",
     "text": [
      "['A', 'B', 'C', 'D', 'E', 'F', 'G', 'H']\n",
      "['A', 'G', 'B', 'D', 'C', 'E', 'H', 'F']\n",
      "None\n",
      "None\n"
     ]
    }
   ],
   "source": [
    "def crossover(x, y):\n",
    "    # create an offspring from the parents x and y\n",
    "    return\n",
    "    \n",
    "def mutate(x, p_mutate):\n",
    "    # switch the location of two cities\n",
    "    return\n",
    "\n",
    "# test your code\n",
    "x = path_code\n",
    "y = random.sample(path_code, len(path_code))\n",
    "xy = crossover(x,y)\n",
    "print(x)\n",
    "print(y)\n",
    "print(xy)\n",
    "mutate(xy, 0.5)\n",
    "print(xy)"
   ]
  },
  {
   "cell_type": "markdown",
   "metadata": {},
   "source": [
    "We have now all the ingredients to create our genetic algorithm:"
   ]
  },
  {
   "cell_type": "markdown",
   "metadata": {},
   "source": [
    "### Simulated Annealing\n",
    "\n",
    "The intuition behind Hill Climbing was developed from the metaphor of climbing up the graph of a function to find its peak. \n",
    "There is a fundamental problem in the implementation of the algorithm however.\n",
    "To find the highest hill, we take one step at a time, always uphill, hoping to find the highest point, \n",
    "but if we are unlucky to start from the shoulder of the second-highest hill, there is no way we can find the highest one. \n",
    "The algorithm will always converge to the local optimum.\n",
    "Hill Climbing is also bad at dealing with functions that flatline in certain regions.\n",
    "If all neighboring states have the same value, we cannot find the global optimum using this algorithm.\n",
    "<br>\n",
    "<br>\n",
    "Let's now look at an algorithm that can deal with these situations.\n",
    "<br>\n",
    "Simulated Annealing is quite similar to Hill Climbing, \n",
    "but instead of picking the _best_ move every iteration, it picks a _random_ move. \n",
    "If this random move brings us closer to the global optimum, it will be accepted, \n",
    "but if it doesn't, the algorithm may accept or reject the move based on a probability dictated by the _temperature_. \n",
    "When the *temperature* is high, the algorithm is more likely to accept a random move even if it is bad.\n",
    "At low temperatures, only good moves are accepted, with the occasional exception.\n",
    "This allows exploration of the state space and prevents the algorithm from getting stuck at the local optimum.\n",
    "\n",
    "The temperature is gradually decreased over the course of the iteration.\n",
    "This is done by a scheduling routine:\n"
   ]
  },
  {
   "cell_type": "code",
   "execution_count": 213,
   "metadata": {},
   "outputs": [],
   "source": [
    "def exp_schedule(k=20, lam=0.005, limit=100):\n",
    "    \"\"\"One possible schedule function for simulated annealing\"\"\"\n",
    "    return lambda t: (k * math.exp(-lam * t) if t < limit else 0)"
   ]
  },
  {
   "cell_type": "code",
   "execution_count": null,
   "metadata": {},
   "outputs": [],
   "source": []
  }
 ],
 "metadata": {
  "kernelspec": {
   "display_name": "Python [default]",
   "language": "python",
   "name": "python3"
  },
  "language_info": {
   "codemirror_mode": {
    "name": "ipython",
    "version": 3
   },
   "file_extension": ".py",
   "mimetype": "text/x-python",
   "name": "python",
   "nbconvert_exporter": "python",
   "pygments_lexer": "ipython3",
   "version": "3.6.4"
  }
 },
 "nbformat": 4,
 "nbformat_minor": 2
}
