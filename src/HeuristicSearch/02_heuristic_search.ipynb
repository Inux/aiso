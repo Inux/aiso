{
 "cells": [
  {
   "cell_type": "markdown",
   "metadata": {},
   "source": [
    "# Exercise Informed Search Algorithms #\n"
   ]
  },
  {
   "cell_type": "markdown",
   "metadata": {},
   "source": [
    "In the last session, we implemented different systematic search strategies. If we want to find paths between different cities in a map, we can use additional information to guide our search. We don't rely on the 'blind' search and can implement more efficient algorithms, that consider the coordinates of the cities for example."
   ]
  },
  {
   "cell_type": "markdown",
   "metadata": {},
   "source": [
    "Implement the following algorithms and answer the same questions as you did for the systematic search algorithms.\n",
    "\n",
    "1. Greedy Search\n",
    "1. A* Algorithm\n",
    "1. IDA* Search"
   ]
  },
  {
   "cell_type": "code",
   "execution_count": 6,
   "metadata": {},
   "outputs": [
    {
     "name": "stdout",
     "output_type": "stream",
     "text": [
      "successfully imported 2787 hubs\n",
      "successfully imported 401 train lines\n"
     ]
    }
   ],
   "source": [
    "from sbb import SBB\n",
    "from search import *\n",
    "\n",
    "sbb = SBB()\n",
    "sbb.importData('linie-mit-betriebspunkten.json')\n",
    "\n",
    "start = 'Rotkreuz'\n",
    "goal = 'Thalwil'\n",
    "sbb_map = UndirectedGraph(sbb.createMap())\n",
    "problem = GraphProblem(start, goal, sbb_map)\n",
    "\n",
    "# implement the informed search algorithms here\n"
   ]
  },
  {
   "cell_type": "markdown",
   "metadata": {},
   "source": [
    "Hints: you can use the heap library heapq for your frontier:\n",
    "\n",
    "`from heapq import heappush, heappop`\n",
    "\n",
    "The following line will add the node `f` to the frontier with priority `f`:\n",
    "\n",
    "`heappush(frontier, (f, node))`\n",
    "\n",
    "To get the first node, use: `node = heappop(frontier)[1]`\n",
    "\n",
    "The aerial distance between a node and the goal can be computed with the following function:\n",
    "\n",
    "`sbb.get_distance_between(node.state, problem.goal)`\n",
    "        "
   ]
  },
  {
   "cell_type": "markdown",
   "metadata": {},
   "source": [
    "How do theses informed search algorithms perform on our problem? Create the following overview table for the example problem.\n",
    "\n",
    "\n",
    "| Algorithm | start   | goal | cost | number of nodes visited | maximal stored nodes | complete | optimal |\n",
    "|------|------|-----|-----|-----|-----|-----|-----|\n",
    "| Greedy Search|||||\n",
    "| A*|||||\n",
    "| IDA*|||||\n"
   ]
  }
 ],
 "metadata": {
  "kernelspec": {
   "display_name": "Python 3",
   "language": "python",
   "name": "python3"
  },
  "language_info": {
   "codemirror_mode": {
    "name": "ipython",
    "version": 3
   },
   "file_extension": ".py",
   "mimetype": "text/x-python",
   "name": "python",
   "nbconvert_exporter": "python",
   "pygments_lexer": "ipython3",
   "version": "3.7.0"
  }
 },
 "nbformat": 4,
 "nbformat_minor": 2
}
