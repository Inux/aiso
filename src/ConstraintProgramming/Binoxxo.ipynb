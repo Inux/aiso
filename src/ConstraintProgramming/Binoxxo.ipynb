{
 "cells": [
  {
   "cell_type": "markdown",
   "metadata": {},
   "source": [
    "# Binoxxo Puzzle"
   ]
  },
  {
   "cell_type": "markdown",
   "metadata": {},
   "source": [
    "Place X or O in the empty cells so that there are no more than two consecutive X's or O's in a row or a column.\n",
    "The number of X's is the same as the number of O's in each row and column, and all rows and columns are unique.\n",
    "\n",
    "Find more Binoxxo puzzles [here](https://www.binoxxo.ch/Binoxxo-Raetselbuch/)"
   ]
  },
  {
   "cell_type": "markdown",
   "metadata": {},
   "source": [
    "Imports"
   ]
  },
  {
   "cell_type": "code",
   "execution_count": 41,
   "metadata": {
    "lines_to_next_cell": 1
   },
   "outputs": [],
   "source": [
    "from ortools.constraint_solver import pywrapcp\n",
    "from itertools import product"
   ]
  },
  {
   "cell_type": "markdown",
   "metadata": {},
   "source": [
    "Pretty-print square board"
   ]
  },
  {
   "cell_type": "code",
   "execution_count": 42,
   "metadata": {
    "lines_to_next_cell": 1
   },
   "outputs": [],
   "source": [
    "def pretty_print(board):\n",
    "    mapper = {0: 'O', 1: 'X'}\n",
    "    for i in range(len(board)):\n",
    "        for j in range(len(board)):\n",
    "            print(\"[{}] \".format(mapper[board[i][j].Value()]), end='')\n",
    "        print(\"\\n\")\n",
    "    print(\"\\n\\n\")"
   ]
  },
  {
   "cell_type": "markdown",
   "metadata": {},
   "source": [
    "Binoxxo puzzle from lecture"
   ]
  },
  {
   "cell_type": "code",
   "execution_count": 43,
   "metadata": {},
   "outputs": [],
   "source": [
    "binoxxo1 = [\n",
    "    [\"\", \"1\", \"\", \"\", \"\", \"\", \"\", \"\", \"\", \"\"],\n",
    "    [\"\", \"\", \"\", \"0\", \"\", \"\", \"\", \"\", \"\", \"\"],\n",
    "    [\"\", \"1\", \"1\", \"\", \"\", \"\", \"\", \"\", \"\", \"\"],\n",
    "    [\"\", \"\", \"\", \"\", \"0\", \"0\", \"\", \"\", \"\", \"0\"],\n",
    "    [\"1\", \"\", \"\", \"\", \"\", \"\", \"1\", \"1\", \"\", \"\"],\n",
    "    [\"\", \"1\", \"\", \"\", \"1\", \"\", \"\", \"\", \"\", \"\"],\n",
    "    [\"\", \"\", \"\", \"0\", \"\", \"\", \"1\", \"\", \"\", \"\"],\n",
    "    [\"\", \"0\", \"\", \"\", \"\", \"\", \"\", \"0\", \"\", \"0\"],\n",
    "    [\"\", \"\", \"\", \"\", \"0\", \"\", \"\", \"\", \"\", \"\"],\n",
    "    [\"0\", \"\", \"\", \"\", \"\", \"\", \"\", \"\", \"\", \"0\"]\n",
    "]"
   ]
  },
  {
   "cell_type": "markdown",
   "metadata": {},
   "source": [
    "And two more examples"
   ]
  },
  {
   "cell_type": "code",
   "execution_count": 44,
   "metadata": {},
   "outputs": [],
   "source": [
    "binoxxo2 = [\n",
    "    [\"\", \"\", \"0\", \"0\", \"\", \"\", \"\", \"\", \"\", \"\"],\n",
    "    [\"\", \"\", \"\", \"0\", \"\", \"\", \"\", \"\", \"\", \"\"],\n",
    "    [\"0\", \"\", \"\", \"\", \"1\", \"\", \"\", \"1\", \"\", \"\"],\n",
    "    [\"\", \"\", \"\", \"\", \"\", \"0\", \"\", \"\", \"\", \"\"],\n",
    "    [\"0\", \"\", \"\", \"0\", \"\", \"\", \"\", \"\", \"\", \"\"],\n",
    "    [\"\", \"\", \"\", \"0\", \"\", \"\", \"\", \"\", \"1\", \"\"],\n",
    "    [\"\", \"\", \"\", \"\", \"\", \"\", \"\", \"1\", \"1\", \"\"],\n",
    "    [\"1\", \"\", \"\", \"\", \"\", \"\", \"\", \"1\", \"\", \"\"],\n",
    "    [\"\", \"\", \"\", \"\", \"\", \"0\", \"\", \"\", \"\", \"0\"],\n",
    "    [\"\", \"\", \"\", \"\", \"1\", \"\", \"0\", \"\", \"\", \"\"]\n",
    "]\n",
    "binoxxo3 = [\n",
    "    [\"1\", \"\", \"\", \"\", \"\", \"\", \"0\", \"0\", \"\", \"\"],\n",
    "    [\"\", \"\", \"\", \"0\", \"\", \"\", \"\", \"\", \"1\", \"\"],\n",
    "    [\"\", \"\", \"0\", \"\", \"\", \"\", \"\", \"\", \"\", \"\"],\n",
    "    [\"\", \"\", \"\", \"0\", \"\", \"1\", \"\", \"\", \"\", \"0\"],\n",
    "    [\"1\", \"\", \"1\", \"\", \"\", \"1\", \"\", \"\", \"1\", \"\"],\n",
    "    [\"\", \"\", \"1\", \"\", \"1\", \"\", \"\", \"\", \"\", \"\"],\n",
    "    [\"\", \"\", \"\", \"\", \"1\", \"1\", \"\", \"\", \"1\", \"\"],\n",
    "    [\"\", \"\", \"\", \"\", \"\", \"\", \"\", \"\", \"\", \"0\"],\n",
    "    [\"\", \"1\", \"\", \"1\", \"\", \"\", \"\", \"\", \"\", \"\"],\n",
    "    [\"\", \"1\", \"\", \"\", \"1\", \"\", \"\", \"1\", \"1\", \"\"]\n",
    "]"
   ]
  },
  {
   "cell_type": "markdown",
   "metadata": {},
   "source": [
    "Pick one of the examples"
   ]
  },
  {
   "cell_type": "code",
   "execution_count": 45,
   "metadata": {},
   "outputs": [],
   "source": [
    "game = binoxxo1"
   ]
  },
  {
   "cell_type": "markdown",
   "metadata": {},
   "source": [
    "Create constraint solver"
   ]
  },
  {
   "cell_type": "code",
   "execution_count": 46,
   "metadata": {},
   "outputs": [],
   "source": [
    "solver = pywrapcp.Solver(\"Binoxxo\")"
   ]
  },
  {
   "cell_type": "code",
   "execution_count": 47,
   "metadata": {},
   "outputs": [],
   "source": [
    "# Type your model here ..."
   ]
  },
  {
   "cell_type": "markdown",
   "metadata": {},
   "source": [
    "Configure solver"
   ]
  },
  {
   "cell_type": "code",
   "execution_count": 48,
   "metadata": {},
   "outputs": [],
   "source": [
    "# Replace this by a list of all decision variables in your model\n",
    "all_vars = []\n",
    "\n",
    "db = solver.Phase(all_vars, solver.INT_VAR_SIMPLE, solver.INT_VALUE_SIMPLE)"
   ]
  },
  {
   "cell_type": "markdown",
   "metadata": {},
   "source": [
    "Start solver"
   ]
  },
  {
   "cell_type": "code",
   "execution_count": 49,
   "metadata": {},
   "outputs": [
    {
     "name": "stdout",
     "output_type": "stream",
     "text": [
      "pretty-print board here\n"
     ]
    }
   ],
   "source": [
    "solver.NewSearch(db)\n",
    "while solver.NextSolution():\n",
    "    print('pretty-print board here')"
   ]
  },
  {
   "cell_type": "markdown",
   "metadata": {},
   "source": [
    "Cleanup"
   ]
  },
  {
   "cell_type": "code",
   "execution_count": 50,
   "metadata": {},
   "outputs": [],
   "source": [
    "solver.EndSearch()"
   ]
  },
  {
   "cell_type": "markdown",
   "metadata": {},
   "source": [
    "Print solver information"
   ]
  },
  {
   "cell_type": "code",
   "execution_count": 51,
   "metadata": {},
   "outputs": [
    {
     "name": "stdout",
     "output_type": "stream",
     "text": [
      "Solutions: 1\n",
      "Runtime:   21ms\n",
      "Failures:  0\n",
      "Branches:  0 \n"
     ]
    }
   ],
   "source": [
    "print(\"Solutions: {}\".format(solver.Solutions()))\n",
    "print(\"Runtime:   {}ms\".format(solver.WallTime()))\n",
    "print(\"Failures:  {}\".format(solver.Failures()))\n",
    "print(\"Branches:  {} \".format(solver.Branches()))"
   ]
  }
 ],
 "metadata": {
  "jupytext": {
   "cell_metadata_filter": "-all",
   "main_language": "python",
   "notebook_metadata_filter": "-all",
   "text_representation": {
    "extension": ".py",
    "format_name": "percent"
   }
  },
  "kernelspec": {
   "display_name": "Python 3",
   "language": "python",
   "name": "python3"
  },
  "language_info": {
   "codemirror_mode": {
    "name": "ipython",
    "version": 3
   },
   "file_extension": ".py",
   "mimetype": "text/x-python",
   "name": "python",
   "nbconvert_exporter": "python",
   "pygments_lexer": "ipython3",
   "version": "3.6.6"
  }
 },
 "nbformat": 4,
 "nbformat_minor": 2
}
