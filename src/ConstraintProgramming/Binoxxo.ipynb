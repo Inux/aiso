{
 "cells": [
  {
   "cell_type": "markdown",
   "metadata": {},
   "source": [
    "# Binoxxo Puzzle"
   ]
  },
  {
   "cell_type": "markdown",
   "metadata": {},
   "source": [
    "Place X or O in the empty cells so that there are no more than two consecutive X's or O's in a row or a column.\n",
    "The number of X's is the same as the number of O's in each row and column, and all rows and columns are unique.\n",
    "\n",
    "Find more Binoxxo puzzles [here](https://www.binoxxo.ch/Binoxxo-Raetselbuch/)"
   ]
  },
  {
   "cell_type": "markdown",
   "metadata": {},
   "source": [
    "Imports"
   ]
  },
  {
   "cell_type": "code",
   "execution_count": 1,
   "metadata": {
    "lines_to_next_cell": 1
   },
   "outputs": [],
   "source": [
    "from ortools.constraint_solver import pywrapcp\n",
    "from itertools import product\n",
    "import numpy as np"
   ]
  },
  {
   "cell_type": "markdown",
   "metadata": {},
   "source": [
    "Pretty-print square board"
   ]
  },
  {
   "cell_type": "code",
   "execution_count": 2,
   "metadata": {
    "lines_to_next_cell": 1
   },
   "outputs": [],
   "source": [
    "def pretty_print(board):\n",
    "    mapper = {0: 'O', 1: 'X'}\n",
    "    for i in range(len(board)):\n",
    "        for j in range(len(board)):\n",
    "            print(\"[{}] \".format(mapper[board[i][j].Value()]), end='')\n",
    "        print(\"\\n\")\n",
    "    print(\"\\n\\n\")\n",
    "    \n",
    "def pretty_print_game(board):\n",
    "    mapper = {\"\": '?', \"1\": 'X', \"0\": 'O'}\n",
    "    for i in range(len(board)):\n",
    "        for j in range(len(board)):\n",
    "            print(\"[{}] \".format(mapper[board[i][j]]), end='')\n",
    "        print(\"\\n\")\n",
    "    print(\"\\n\\n\")"
   ]
  },
  {
   "cell_type": "markdown",
   "metadata": {},
   "source": [
    "Binoxxo puzzle from lecture"
   ]
  },
  {
   "cell_type": "code",
   "execution_count": 3,
   "metadata": {},
   "outputs": [],
   "source": [
    "#Solutions: 1\n",
    "#Runtime:   239ms\n",
    "#Failures:  219\n",
    "#Branches:  438\n",
    "binoxxo1 = [\n",
    "    [\"\", \"1\", \"\", \"\", \"\", \"\", \"\", \"\", \"\", \"\"],\n",
    "    [\"\", \"\", \"\", \"0\", \"\", \"\", \"\", \"\", \"\", \"\"],\n",
    "    [\"\", \"1\", \"1\", \"\", \"\", \"\", \"\", \"\", \"\", \"\"],\n",
    "    [\"\", \"\", \"\", \"\", \"0\", \"0\", \"\", \"\", \"\", \"0\"],\n",
    "    [\"1\", \"\", \"\", \"\", \"\", \"\", \"1\", \"1\", \"\", \"\"],\n",
    "    [\"\", \"1\", \"\", \"\", \"1\", \"\", \"\", \"\", \"\", \"\"],\n",
    "    [\"\", \"\", \"\", \"0\", \"\", \"\", \"1\", \"\", \"\", \"\"],\n",
    "    [\"\", \"0\", \"\", \"\", \"\", \"\", \"\", \"0\", \"\", \"0\"],\n",
    "    [\"\", \"\", \"\", \"\", \"0\", \"\", \"\", \"\", \"\", \"\"],\n",
    "    [\"0\", \"\", \"\", \"\", \"\", \"\", \"\", \"\", \"\", \"0\"]\n",
    "]"
   ]
  },
  {
   "cell_type": "markdown",
   "metadata": {},
   "source": [
    "And two more examples"
   ]
  },
  {
   "cell_type": "code",
   "execution_count": 4,
   "metadata": {},
   "outputs": [],
   "source": [
    "#Solutions: 1\n",
    "#Runtime:   155ms\n",
    "#Failures:  486\n",
    "#Branches:  972 \n",
    "binoxxo2 = [\n",
    "    [\"\", \"\", \"0\", \"0\", \"\", \"\", \"\", \"\", \"\", \"\"],\n",
    "    [\"\", \"\", \"\", \"0\", \"\", \"\", \"\", \"\", \"\", \"\"],\n",
    "    [\"0\", \"\", \"\", \"\", \"1\", \"\", \"\", \"1\", \"\", \"\"],\n",
    "    [\"\", \"\", \"\", \"\", \"\", \"0\", \"\", \"\", \"\", \"\"],\n",
    "    [\"0\", \"\", \"\", \"0\", \"\", \"\", \"\", \"\", \"\", \"\"],\n",
    "    [\"\", \"\", \"\", \"0\", \"\", \"\", \"\", \"\", \"1\", \"\"],\n",
    "    [\"\", \"\", \"\", \"\", \"\", \"\", \"\", \"1\", \"1\", \"\"],\n",
    "    [\"1\", \"\", \"\", \"\", \"\", \"\", \"\", \"1\", \"\", \"\"],\n",
    "    [\"\", \"\", \"\", \"\", \"\", \"0\", \"\", \"\", \"\", \"0\"],\n",
    "    [\"\", \"\", \"\", \"\", \"1\", \"\", \"0\", \"\", \"\", \"\"]\n",
    "]\n",
    "\n",
    "#Solutions: 3\n",
    "#Runtime:   166ms\n",
    "#Failures:  0\n",
    "#Branches:  4 \n",
    "binoxxo3 = [\n",
    "    [\"1\", \"\", \"\", \"\", \"\", \"\", \"0\", \"0\", \"\", \"\"],\n",
    "    [\"\", \"\", \"\", \"0\", \"\", \"\", \"\", \"\", \"1\", \"\"],\n",
    "    [\"\", \"\", \"0\", \"\", \"\", \"\", \"\", \"\", \"\", \"\"],\n",
    "    [\"\", \"\", \"\", \"0\", \"\", \"1\", \"\", \"\", \"\", \"0\"],\n",
    "    [\"1\", \"\", \"1\", \"\", \"\", \"1\", \"\", \"\", \"1\", \"\"],\n",
    "    [\"\", \"\", \"1\", \"\", \"1\", \"\", \"\", \"\", \"\", \"\"],\n",
    "    [\"\", \"\", \"\", \"\", \"1\", \"1\", \"\", \"\", \"1\", \"\"],\n",
    "    [\"\", \"\", \"\", \"\", \"\", \"\", \"\", \"\", \"\", \"0\"],\n",
    "    [\"\", \"1\", \"\", \"1\", \"\", \"\", \"\", \"\", \"\", \"\"],\n",
    "    [\"\", \"1\", \"\", \"\", \"1\", \"\", \"\", \"1\", \"1\", \"\"]\n",
    "]"
   ]
  },
  {
   "cell_type": "markdown",
   "metadata": {},
   "source": [
    "Pick one of the examples"
   ]
  },
  {
   "cell_type": "code",
   "execution_count": 5,
   "metadata": {},
   "outputs": [],
   "source": [
    "game = binoxxo1"
   ]
  },
  {
   "cell_type": "markdown",
   "metadata": {},
   "source": [
    "Create constraint solver"
   ]
  },
  {
   "cell_type": "code",
   "execution_count": 6,
   "metadata": {},
   "outputs": [],
   "source": [
    "solver = pywrapcp.Solver(\"Binoxxo\")"
   ]
  },
  {
   "cell_type": "code",
   "execution_count": 7,
   "metadata": {},
   "outputs": [],
   "source": [
    "# Create solution_grid\n",
    "solution_grid = [[solver.IntVar(0, 1) for x in range(len(game))] for y in range(len(game[0]))]\n",
    "\n",
    "length = len(game)\n",
    "sum_result = int(len(game)/2)\n",
    "\n",
    "#set existing values...\n",
    "for x in range(length):\n",
    "    for y in range(length):\n",
    "        if game[x][y] not in \"\":\n",
    "            solver.Add(solution_grid[x][y] == int(game[x][y]))\n",
    "        \n",
    "\n",
    "#sum of row or colum has to be the half of the length of a row or column\n",
    "for i in range(length):\n",
    "    #rows\n",
    "    solver.Add(sum_result == solver.Sum([solution_grid[i][y] for y in range(length)]))\n",
    "\n",
    "    #columns\n",
    "    solver.Add(sum_result == solver.Sum([solution_grid[x][i] for x in range(length)]))\n",
    "    \n",
    "\n",
    "#each row and column should be unique...\n",
    "for i in range(length-1):\n",
    "    index_one = i\n",
    "    index_two = i+1\n",
    "        \n",
    "    solver.Add(\n",
    "        solver.Sum([(solution_grid[index_one][y] * int(2**y)) for y in range(length)]) != \n",
    "        solver.Sum([(solution_grid[index_two][y] * int(2**y)) for y in range(length)])\n",
    "    )\n",
    "\n",
    "    solver.Add(\n",
    "        solver.Sum([(solution_grid[x][index_one] * int(2**x)) for x in range(length)]) != \n",
    "        solver.Sum([(solution_grid[x][index_two] * int(2**x)) for x in range(length)])\n",
    "    )\n",
    "\n",
    "\n",
    "#there should not be two times the same symbol in a row...\n",
    "for x in range(length):\n",
    "    for y in range(length-2):\n",
    "        #rows\n",
    "        solver.Add(solver.Sum([solution_grid[x][y+n] for n in range(0, 3)]) > 0)\n",
    "        solver.Add(solver.Sum([solution_grid[x][y+n] for n in range(0, 3)]) < 3)\n",
    "\n",
    "        #columns\n",
    "        solver.Add(solver.Sum([solution_grid[y+n][x] for n in range(0, 3)]) > 0)\n",
    "        solver.Add(solver.Sum([solution_grid[y+n][x] for n in range(0, 3)]) < 3)\n"
   ]
  },
  {
   "cell_type": "markdown",
   "metadata": {},
   "source": [
    "Configure solver"
   ]
  },
  {
   "cell_type": "code",
   "execution_count": 8,
   "metadata": {},
   "outputs": [],
   "source": [
    "# Replace this by a list of all decision variables in your model\n",
    "all_vars = list(np.concatenate(solution_grid))\n",
    "\n",
    "db = solver.Phase(all_vars, solver.INT_VAR_SIMPLE, solver.INT_VALUE_SIMPLE)"
   ]
  },
  {
   "cell_type": "markdown",
   "metadata": {},
   "source": [
    "Start solver"
   ]
  },
  {
   "cell_type": "code",
   "execution_count": 9,
   "metadata": {},
   "outputs": [
    {
     "name": "stdout",
     "output_type": "stream",
     "text": [
      "Game:\n",
      "[?] [X] [?] [?] [?] [?] [?] [?] [?] [?] \n",
      "\n",
      "[?] [?] [?] [O] [?] [?] [?] [?] [?] [?] \n",
      "\n",
      "[?] [X] [X] [?] [?] [?] [?] [?] [?] [?] \n",
      "\n",
      "[?] [?] [?] [?] [O] [O] [?] [?] [?] [O] \n",
      "\n",
      "[X] [?] [?] [?] [?] [?] [X] [X] [?] [?] \n",
      "\n",
      "[?] [X] [?] [?] [X] [?] [?] [?] [?] [?] \n",
      "\n",
      "[?] [?] [?] [O] [?] [?] [X] [?] [?] [?] \n",
      "\n",
      "[?] [O] [?] [?] [?] [?] [?] [O] [?] [O] \n",
      "\n",
      "[?] [?] [?] [?] [O] [?] [?] [?] [?] [?] \n",
      "\n",
      "[O] [?] [?] [?] [?] [?] [?] [?] [?] [O] \n",
      "\n",
      "\n",
      "\n",
      "\n",
      "Solution:\n",
      "[X] [X] [O] [X] [O] [O] [X] [O] [O] [X] \n",
      "\n",
      "[X] [O] [X] [O] [X] [O] [O] [X] [O] [X] \n",
      "\n",
      "[O] [X] [X] [O] [X] [X] [O] [O] [X] [O] \n",
      "\n",
      "[X] [X] [O] [X] [O] [O] [X] [O] [X] [O] \n",
      "\n",
      "[X] [O] [O] [X] [O] [O] [X] [X] [O] [X] \n",
      "\n",
      "[O] [X] [X] [O] [X] [X] [O] [X] [O] [O] \n",
      "\n",
      "[O] [O] [X] [O] [O] [X] [X] [O] [X] [X] \n",
      "\n",
      "[X] [O] [O] [X] [X] [O] [X] [O] [X] [O] \n",
      "\n",
      "[O] [X] [O] [X] [O] [X] [O] [X] [O] [X] \n",
      "\n",
      "[O] [O] [X] [O] [X] [X] [O] [X] [X] [O] \n",
      "\n",
      "\n",
      "\n",
      "\n"
     ]
    }
   ],
   "source": [
    "solver.NewSearch(db)\n",
    "while solver.NextSolution():\n",
    "    print(\"Game:\")\n",
    "    pretty_print_game(game)\n",
    "    print(\"Solution:\")\n",
    "    pretty_print(solution_grid)"
   ]
  },
  {
   "cell_type": "markdown",
   "metadata": {},
   "source": [
    "Cleanup"
   ]
  },
  {
   "cell_type": "code",
   "execution_count": 10,
   "metadata": {},
   "outputs": [],
   "source": [
    "solver.EndSearch()"
   ]
  },
  {
   "cell_type": "markdown",
   "metadata": {},
   "source": [
    "Print solver information"
   ]
  },
  {
   "cell_type": "code",
   "execution_count": 11,
   "metadata": {},
   "outputs": [
    {
     "name": "stdout",
     "output_type": "stream",
     "text": [
      "Solutions: 1\n",
      "Runtime:   161ms\n",
      "Failures:  219\n",
      "Branches:  438 \n"
     ]
    }
   ],
   "source": [
    "print(\"Solutions: {}\".format(solver.Solutions()))\n",
    "print(\"Runtime:   {}ms\".format(solver.WallTime()))\n",
    "print(\"Failures:  {}\".format(solver.Failures()))\n",
    "print(\"Branches:  {} \".format(solver.Branches()))"
   ]
  },
  {
   "cell_type": "code",
   "execution_count": null,
   "metadata": {},
   "outputs": [],
   "source": []
  }
 ],
 "metadata": {
  "jupytext": {
   "cell_metadata_filter": "-all",
   "main_language": "python",
   "notebook_metadata_filter": "-all",
   "text_representation": {
    "extension": ".py",
    "format_name": "percent"
   }
  },
  "kernelspec": {
   "display_name": "Python [default]",
   "language": "python",
   "name": "python3"
  },
  "language_info": {
   "codemirror_mode": {
    "name": "ipython",
    "version": 3
   },
   "file_extension": ".py",
   "mimetype": "text/x-python",
   "name": "python",
   "nbconvert_exporter": "python",
   "pygments_lexer": "ipython3",
   "version": "3.6.4"
  }
 },
 "nbformat": 4,
 "nbformat_minor": 2
}
