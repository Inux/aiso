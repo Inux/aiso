{
 "cells": [
  {
   "cell_type": "markdown",
   "metadata": {},
   "source": [
    "# Binoxxo Puzzle"
   ]
  },
  {
   "cell_type": "markdown",
   "metadata": {},
   "source": [
    "Place X or O in the empty cells so that there are no more than two consecutive X's or O's in a row or a column.\n",
    "The number of X's is the same as the number of O's in each row and column, and all rows and columns are unique.\n",
    "\n",
    "Find more Binoxxo puzzles [here](https://www.binoxxo.ch/Binoxxo-Raetselbuch/)"
   ]
  },
  {
   "cell_type": "markdown",
   "metadata": {},
   "source": [
    "Imports"
   ]
  },
  {
   "cell_type": "code",
   "execution_count": 1,
   "metadata": {
    "lines_to_next_cell": 1
   },
   "outputs": [],
   "source": [
    "from ortools.constraint_solver import pywrapcp\n",
    "from itertools import product\n",
    "import numpy as np"
   ]
  },
  {
   "cell_type": "markdown",
   "metadata": {},
   "source": [
    "Pretty-print square board"
   ]
  },
  {
   "cell_type": "code",
   "execution_count": 2,
   "metadata": {
    "lines_to_next_cell": 1
   },
   "outputs": [],
   "source": [
    "def pretty_print(board):\n",
    "    mapper = {0: 'O', 1: 'X'}\n",
    "    for i in range(len(board)):\n",
    "        for j in range(len(board)):\n",
    "            print(\"[{}] \".format(mapper[board[i][j].Value()]), end='')\n",
    "        print(\"\\n\")\n",
    "    print(\"\\n\\n\")"
   ]
  },
  {
   "cell_type": "markdown",
   "metadata": {},
   "source": [
    "Binoxxo puzzle from lecture"
   ]
  },
  {
   "cell_type": "code",
   "execution_count": 3,
   "metadata": {},
   "outputs": [],
   "source": [
    "binoxxo1 = [\n",
    "    [\"\", \"1\", \"\", \"\", \"\", \"\", \"\", \"\", \"\", \"\"],\n",
    "    [\"\", \"\", \"\", \"0\", \"\", \"\", \"\", \"\", \"\", \"\"],\n",
    "    [\"\", \"1\", \"1\", \"\", \"\", \"\", \"\", \"\", \"\", \"\"],\n",
    "    [\"\", \"\", \"\", \"\", \"0\", \"0\", \"\", \"\", \"\", \"0\"],\n",
    "    [\"1\", \"\", \"\", \"\", \"\", \"\", \"1\", \"1\", \"\", \"\"],\n",
    "    [\"\", \"1\", \"\", \"\", \"1\", \"\", \"\", \"\", \"\", \"\"],\n",
    "    [\"\", \"\", \"\", \"0\", \"\", \"\", \"1\", \"\", \"\", \"\"],\n",
    "    [\"\", \"0\", \"\", \"\", \"\", \"\", \"\", \"0\", \"\", \"0\"],\n",
    "    [\"\", \"\", \"\", \"\", \"0\", \"\", \"\", \"\", \"\", \"\"],\n",
    "    [\"0\", \"\", \"\", \"\", \"\", \"\", \"\", \"\", \"\", \"0\"]\n",
    "]"
   ]
  },
  {
   "cell_type": "markdown",
   "metadata": {},
   "source": [
    "And two more examples"
   ]
  },
  {
   "cell_type": "code",
   "execution_count": 4,
   "metadata": {},
   "outputs": [],
   "source": [
    "binoxxo2 = [\n",
    "    [\"\", \"\", \"0\", \"0\", \"\", \"\", \"\", \"\", \"\", \"\"],\n",
    "    [\"\", \"\", \"\", \"0\", \"\", \"\", \"\", \"\", \"\", \"\"],\n",
    "    [\"0\", \"\", \"\", \"\", \"1\", \"\", \"\", \"1\", \"\", \"\"],\n",
    "    [\"\", \"\", \"\", \"\", \"\", \"0\", \"\", \"\", \"\", \"\"],\n",
    "    [\"0\", \"\", \"\", \"0\", \"\", \"\", \"\", \"\", \"\", \"\"],\n",
    "    [\"\", \"\", \"\", \"0\", \"\", \"\", \"\", \"\", \"1\", \"\"],\n",
    "    [\"\", \"\", \"\", \"\", \"\", \"\", \"\", \"1\", \"1\", \"\"],\n",
    "    [\"1\", \"\", \"\", \"\", \"\", \"\", \"\", \"1\", \"\", \"\"],\n",
    "    [\"\", \"\", \"\", \"\", \"\", \"0\", \"\", \"\", \"\", \"0\"],\n",
    "    [\"\", \"\", \"\", \"\", \"1\", \"\", \"0\", \"\", \"\", \"\"]\n",
    "]\n",
    "binoxxo3 = [\n",
    "    [\"1\", \"\", \"\", \"\", \"\", \"\", \"0\", \"0\", \"\", \"\"],\n",
    "    [\"\", \"\", \"\", \"0\", \"\", \"\", \"\", \"\", \"1\", \"\"],\n",
    "    [\"\", \"\", \"0\", \"\", \"\", \"\", \"\", \"\", \"\", \"\"],\n",
    "    [\"\", \"\", \"\", \"0\", \"\", \"1\", \"\", \"\", \"\", \"0\"],\n",
    "    [\"1\", \"\", \"1\", \"\", \"\", \"1\", \"\", \"\", \"1\", \"\"],\n",
    "    [\"\", \"\", \"1\", \"\", \"1\", \"\", \"\", \"\", \"\", \"\"],\n",
    "    [\"\", \"\", \"\", \"\", \"1\", \"1\", \"\", \"\", \"1\", \"\"],\n",
    "    [\"\", \"\", \"\", \"\", \"\", \"\", \"\", \"\", \"\", \"0\"],\n",
    "    [\"\", \"1\", \"\", \"1\", \"\", \"\", \"\", \"\", \"\", \"\"],\n",
    "    [\"\", \"1\", \"\", \"\", \"1\", \"\", \"\", \"1\", \"1\", \"\"]\n",
    "]"
   ]
  },
  {
   "cell_type": "markdown",
   "metadata": {},
   "source": [
    "Pick one of the examples"
   ]
  },
  {
   "cell_type": "code",
   "execution_count": 5,
   "metadata": {},
   "outputs": [],
   "source": [
    "game = binoxxo3"
   ]
  },
  {
   "cell_type": "markdown",
   "metadata": {},
   "source": [
    "Create constraint solver"
   ]
  },
  {
   "cell_type": "code",
   "execution_count": 6,
   "metadata": {},
   "outputs": [],
   "source": [
    "solver = pywrapcp.Solver(\"Binoxxo\")"
   ]
  },
  {
   "cell_type": "code",
   "execution_count": 7,
   "metadata": {},
   "outputs": [
    {
     "ename": "TypeError",
     "evalue": "in method 'Solver_AddConstraint', argument 2 of type 'operations_research::Constraint *const'",
     "output_type": "error",
     "traceback": [
      "\u001b[0;31m---------------------------------------------------------------------------\u001b[0m",
      "\u001b[0;31mTypeError\u001b[0m                                 Traceback (most recent call last)",
      "\u001b[0;32m<ipython-input-7-52c08dd43261>\u001b[0m in \u001b[0;36m<module>\u001b[0;34m()\u001b[0m\n\u001b[1;32m     10\u001b[0m \u001b[0;32mfor\u001b[0m \u001b[0mi\u001b[0m \u001b[0;32min\u001b[0m \u001b[0mrange\u001b[0m\u001b[0;34m(\u001b[0m\u001b[0mlen\u001b[0m\u001b[0;34m(\u001b[0m\u001b[0mgame\u001b[0m\u001b[0;34m)\u001b[0m\u001b[0;34m)\u001b[0m\u001b[0;34m:\u001b[0m\u001b[0;34m\u001b[0m\u001b[0m\n\u001b[1;32m     11\u001b[0m     \u001b[0;31m#rows\u001b[0m\u001b[0;34m\u001b[0m\u001b[0;34m\u001b[0m\u001b[0m\n\u001b[0;32m---> 12\u001b[0;31m     \u001b[0msolver\u001b[0m\u001b[0;34m.\u001b[0m\u001b[0mAdd\u001b[0m\u001b[0;34m(\u001b[0m\u001b[0msolver\u001b[0m\u001b[0;34m.\u001b[0m\u001b[0mSum\u001b[0m\u001b[0;34m(\u001b[0m\u001b[0;34m[\u001b[0m \u001b[0msolution_grid\u001b[0m\u001b[0;34m[\u001b[0m\u001b[0mi\u001b[0m\u001b[0;34m]\u001b[0m\u001b[0;34m[\u001b[0m\u001b[0mj\u001b[0m\u001b[0;34m]\u001b[0m \u001b[0;32mfor\u001b[0m \u001b[0mj\u001b[0m \u001b[0;32min\u001b[0m \u001b[0mrange\u001b[0m\u001b[0;34m(\u001b[0m\u001b[0mlen\u001b[0m\u001b[0;34m(\u001b[0m\u001b[0mgame\u001b[0m\u001b[0;34m)\u001b[0m\u001b[0;34m)\u001b[0m \u001b[0;34m]\u001b[0m\u001b[0;34m)\u001b[0m \u001b[0;34m==\u001b[0m \u001b[0mlen\u001b[0m\u001b[0;34m(\u001b[0m\u001b[0mgame\u001b[0m\u001b[0;34m)\u001b[0m\u001b[0;34m/\u001b[0m\u001b[0;36m2\u001b[0m\u001b[0;34m)\u001b[0m\u001b[0;34m\u001b[0m\u001b[0m\n\u001b[0m\u001b[1;32m     13\u001b[0m \u001b[0;34m\u001b[0m\u001b[0m\n\u001b[1;32m     14\u001b[0m     \u001b[0;31m#columns\u001b[0m\u001b[0;34m\u001b[0m\u001b[0;34m\u001b[0m\u001b[0m\n",
      "\u001b[0;32m~/.local/lib/python3.6/site-packages/ortools/constraint_solver/pywrapcp.py\u001b[0m in \u001b[0;36mAdd\u001b[0;34m(self, ct)\u001b[0m\n\u001b[1;32m    735\u001b[0m       \u001b[0;32mif\u001b[0m \u001b[0misinstance\u001b[0m\u001b[0;34m(\u001b[0m\u001b[0mct\u001b[0m\u001b[0;34m,\u001b[0m \u001b[0mPyConstraint\u001b[0m\u001b[0;34m)\u001b[0m\u001b[0;34m:\u001b[0m\u001b[0;34m\u001b[0m\u001b[0m\n\u001b[1;32m    736\u001b[0m         \u001b[0mself\u001b[0m\u001b[0;34m.\u001b[0m\u001b[0m__python_constraints\u001b[0m\u001b[0;34m.\u001b[0m\u001b[0mappend\u001b[0m\u001b[0;34m(\u001b[0m\u001b[0mct\u001b[0m\u001b[0;34m)\u001b[0m\u001b[0;34m\u001b[0m\u001b[0m\n\u001b[0;32m--> 737\u001b[0;31m       \u001b[0mself\u001b[0m\u001b[0;34m.\u001b[0m\u001b[0mAddConstraint\u001b[0m\u001b[0;34m(\u001b[0m\u001b[0mct\u001b[0m\u001b[0;34m)\u001b[0m\u001b[0;34m\u001b[0m\u001b[0m\n\u001b[0m\u001b[1;32m    738\u001b[0m \u001b[0;34m\u001b[0m\u001b[0m\n\u001b[1;32m    739\u001b[0m \u001b[0;34m\u001b[0m\u001b[0m\n",
      "\u001b[0;32m~/.local/lib/python3.6/site-packages/ortools/constraint_solver/pywrapcp.py\u001b[0m in \u001b[0;36mAddConstraint\u001b[0;34m(self, c)\u001b[0m\n\u001b[1;32m    195\u001b[0m \u001b[0;34m\u001b[0m\u001b[0m\n\u001b[1;32m    196\u001b[0m     \u001b[0;32mdef\u001b[0m \u001b[0mAddConstraint\u001b[0m\u001b[0;34m(\u001b[0m\u001b[0mself\u001b[0m\u001b[0;34m,\u001b[0m \u001b[0mc\u001b[0m\u001b[0;34m:\u001b[0m \u001b[0;34m'Constraint'\u001b[0m\u001b[0;34m)\u001b[0m \u001b[0;34m->\u001b[0m \u001b[0;34m\"void\"\u001b[0m\u001b[0;34m:\u001b[0m\u001b[0;34m\u001b[0m\u001b[0m\n\u001b[0;32m--> 197\u001b[0;31m         \u001b[0;32mreturn\u001b[0m \u001b[0m_pywrapcp\u001b[0m\u001b[0;34m.\u001b[0m\u001b[0mSolver_AddConstraint\u001b[0m\u001b[0;34m(\u001b[0m\u001b[0mself\u001b[0m\u001b[0;34m,\u001b[0m \u001b[0mc\u001b[0m\u001b[0;34m)\u001b[0m\u001b[0;34m\u001b[0m\u001b[0m\n\u001b[0m\u001b[1;32m    198\u001b[0m \u001b[0;34m\u001b[0m\u001b[0m\n\u001b[1;32m    199\u001b[0m     \u001b[0;32mdef\u001b[0m \u001b[0mSolve\u001b[0m\u001b[0;34m(\u001b[0m\u001b[0mself\u001b[0m\u001b[0;34m,\u001b[0m \u001b[0;34m*\u001b[0m\u001b[0margs\u001b[0m\u001b[0;34m)\u001b[0m \u001b[0;34m->\u001b[0m \u001b[0;34m\"bool\"\u001b[0m\u001b[0;34m:\u001b[0m\u001b[0;34m\u001b[0m\u001b[0m\n",
      "\u001b[0;31mTypeError\u001b[0m: in method 'Solver_AddConstraint', argument 2 of type 'operations_research::Constraint *const'"
     ]
    }
   ],
   "source": [
    "# Create solution_grid\n",
    "solution_grid = [[solver.IntVar(0, 1) for x in range(len(game))] for y in range(len(game[0]))]\n",
    "        \n",
    "neighbours = [(-1, -1), (-1, 0), (-1, 1), (0, 1), (1, 1), (1, 0), (1, -1), (0, -1)]      \n",
    "        \n",
    "x_max = len(game)\n",
    "y_max = len(game[0])\n",
    "\n",
    "#sum of row or colum has to be the half of the length of a row or column\n",
    "for i in range(len(game)):\n",
    "    #rows\n",
    "    solver.Add(solver.Sum([ solution_grid[i][j] for j in range(len(game)) ]) == len(game)/2)\n",
    "    \n",
    "    #columns\n",
    "    solver.Add(solver.Sum([ solution_grid[j][i] for j in range(len(game)) ]) == len(game)/2)\n",
    "    \n",
    "    \n",
    "# Each neighbour should be different\n",
    "#for x in range(len(game)):\n",
    "#    for y in range(len(game[0])):\n",
    "#        if game[x][y] in \"\":\n",
    "#            for xoff, yoff in neighbours:\n",
    "#                if x + xoff >= 0 and x + xoff < x_max and y + yoff >= 0 and y + yoff < y_max:\n",
    "#                    solver.Add(solution_grid[x][y] != solution_grid[x+xoff][y+yoff])\n",
    "#        else:\n",
    "#            solution_grid[x][y] = solver.IntVar(int(game[x][y]), int(game[x][y]))\n",
    "            "
   ]
  },
  {
   "cell_type": "markdown",
   "metadata": {},
   "source": [
    "Configure solver"
   ]
  },
  {
   "cell_type": "code",
   "execution_count": null,
   "metadata": {},
   "outputs": [],
   "source": [
    "# Replace this by a list of all decision variables in your model\n",
    "all_vars = list(np.concatenate(solution_grid))\n",
    "\n",
    "db = solver.Phase(all_vars, solver.INT_VAR_SIMPLE, solver.INT_VALUE_SIMPLE)"
   ]
  },
  {
   "cell_type": "markdown",
   "metadata": {},
   "source": [
    "Start solver"
   ]
  },
  {
   "cell_type": "code",
   "execution_count": null,
   "metadata": {},
   "outputs": [],
   "source": [
    "solver.NewSearch(db)\n",
    "while solver.NextSolution():\n",
    "    pretty_print(solution_grid)"
   ]
  },
  {
   "cell_type": "markdown",
   "metadata": {},
   "source": [
    "Cleanup"
   ]
  },
  {
   "cell_type": "code",
   "execution_count": null,
   "metadata": {},
   "outputs": [],
   "source": [
    "solver.EndSearch()"
   ]
  },
  {
   "cell_type": "markdown",
   "metadata": {},
   "source": [
    "Print solver information"
   ]
  },
  {
   "cell_type": "code",
   "execution_count": null,
   "metadata": {},
   "outputs": [],
   "source": [
    "print(\"Solutions: {}\".format(solver.Solutions()))\n",
    "print(\"Runtime:   {}ms\".format(solver.WallTime()))\n",
    "print(\"Failures:  {}\".format(solver.Failures()))\n",
    "print(\"Branches:  {} \".format(solver.Branches()))"
   ]
  },
  {
   "cell_type": "code",
   "execution_count": null,
   "metadata": {},
   "outputs": [],
   "source": []
  }
 ],
 "metadata": {
  "jupytext": {
   "cell_metadata_filter": "-all",
   "main_language": "python",
   "notebook_metadata_filter": "-all",
   "text_representation": {
    "extension": ".py",
    "format_name": "percent"
   }
  },
  "kernelspec": {
   "display_name": "Python [default]",
   "language": "python",
   "name": "python3"
  },
  "language_info": {
   "codemirror_mode": {
    "name": "ipython",
    "version": 3
   },
   "file_extension": ".py",
   "mimetype": "text/x-python",
   "name": "python",
   "nbconvert_exporter": "python",
   "pygments_lexer": "ipython3",
   "version": "3.6.4"
  }
 },
 "nbformat": 4,
 "nbformat_minor": 2
}
