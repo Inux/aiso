{
 "cells": [
  {
   "cell_type": "markdown",
   "metadata": {},
   "source": [
    "# Minesweeper Puzzle"
   ]
  },
  {
   "cell_type": "markdown",
   "metadata": {},
   "source": [
    "The player is presented with a grid of squares. Some randomly selected squares, unknown to the player, contain mines. Other squares may display numbers indicating the count of mines present in the immediate neighborhood of the squares. Find all mines. \n",
    "\n",
    "See https://de.wikipedia.org/wiki/Minesweeper or go to http://minesweeperonline.com/ to play"
   ]
  },
  {
   "cell_type": "markdown",
   "metadata": {},
   "source": [
    "Imports"
   ]
  },
  {
   "cell_type": "code",
   "execution_count": 1,
   "metadata": {
    "lines_to_next_cell": 1
   },
   "outputs": [],
   "source": [
    "from ortools.constraint_solver import pywrapcp\n",
    "from itertools import product\n",
    "import numpy as np"
   ]
  },
  {
   "cell_type": "markdown",
   "metadata": {},
   "source": [
    "Pretty-print square minesweeper board"
   ]
  },
  {
   "cell_type": "code",
   "execution_count": 2,
   "metadata": {
    "lines_to_next_cell": 1
   },
   "outputs": [],
   "source": [
    "def pretty_print(mines, labels):\n",
    "    for i in range(len(labels)):\n",
    "        for j in range(len(labels)):\n",
    "            if mines[i][j].Value() == 1:\n",
    "                print(\"[💣]\\t\", end='')\n",
    "            elif labels[i][j] == \"\":\n",
    "                print(\"[  ]\\t\", end='')\n",
    "            else:\n",
    "                print(\"[ {}]\\t\".format(labels[i][j]), end='')\n",
    "        print(\"\\n\")\n",
    "    print(\"\\n\\n\")"
   ]
  },
  {
   "cell_type": "markdown",
   "metadata": {},
   "source": [
    "Some Minesweeper examples, the first one is from the lecture"
   ]
  },
  {
   "cell_type": "code",
   "execution_count": 3,
   "metadata": {},
   "outputs": [],
   "source": [
    "mine_field1 = [\n",
    "    [\"2\", \"\", \"\", \"\", \"1\"],\n",
    "    [\"2\", \"\", \"4\", \"3\", \"\"],\n",
    "    [\"\", \"2\", \"\", \"1\", \"\"],\n",
    "    [\"\", \"1\", \"\", \"3\", \"\"],\n",
    "    [\"1\", \"\", \"\", \"\", \"\"],\n",
    "]\n",
    "mine_field2 = [\n",
    "    [\"1\", \"\", \"\", \"\", \"2\", \"\", \"\", \"1\"],\n",
    "    [\"\", \"1\", \"2\", \"\", \"3\", \"\", \"\", \"1\"],\n",
    "    [\"\", \"2\", \"\", \"1\", \"\", \"\", \"\", \"0\"],\n",
    "    [\"\", \"2\", \"1\", \"\", \"\", \"2\", \"3\", \"1\"],\n",
    "    [\"\", \"\", \"\", \"2\", \"\", \"\", \"\", \"\"],\n",
    "    [\"1\", \"\", \"\", \"\", \"4\", \"3\", \"\", \"\"],\n",
    "    [\"\", \"1\", \"\", \"\", \"4\", \"\", \"3\", \"\"],\n",
    "    [\"1\", \"\", \"\", \"2\", \"\", \"2\", \"\", \"1\"],\n",
    "]\n",
    "mine_field3 = [\n",
    "    [\"\", \"\", \"\", \"\", \"\", \"1\", \"\", \"\"],\n",
    "    [\"1\", \"2\", \"2\", \"1\", \"\", \"\", \"1\", \"1\"],\n",
    "    [\"\", \"1\", \"\", \"\", \"\", \"\", \"\", \"\"],\n",
    "    [\"\", \"\", \"0\", \"\", \"\", \"1\", \"\", \"1\"],\n",
    "    [\"\", \"1\", \"\", \"\", \"\", \"\", \"\", \"\"],\n",
    "    [\"\", \"\", \"1\", \"\", \"2\", \"3\", \"\", \"\"],\n",
    "    [\"\", \"\", \"\", \"\", \"\", \"\", \"2\", \"1\"],\n",
    "    [\"\", \"1\", \"\", \"2\", \"2\", \"\", \"2\", \"\"],\n",
    "]\n",
    "mine_field4 = [\n",
    "    [\"1\", \"\", \"\", \"2\", \"\", \"2\", \"\", \"2\", \"\", \"\"],\n",
    "    [\"\", \"3\", \"2\", \"\", \"\", \"\", \"4\", \"\", \"\", \"1\"],\n",
    "    [\"\", \"\", \"\", \"1\", \"3\", \"\", \"\", \"\", \"4\", \"\"],\n",
    "    [\"3\", \"\", \"1\", \"\", \"\", \"\", \"3\", \"\", \"\", \"\"],\n",
    "    [\"\", \"2\", \"1\", \"\", \"1\", \"\", \"\", \"3\", \"\", \"2\"],\n",
    "    [\"\", \"3\", \"\", \"2\", \"\", \"\", \"2\", \"\", \"1\", \"\"],\n",
    "    [\"2\", \"\", \"\", \"3\", \"2\", \"\", \"\", \"2\", \"\", \"\"],\n",
    "    [\"\", \"3\", \"\", \"\", \"\", \"3\", \"2\", \"\", \"\", \"3\"],\n",
    "    [\"\", \"\", \"3\", \"\", \"3\", \"3\", \"\", \"\", \"\", \"\"],\n",
    "    [\"\", \"2\", \"\", \"2\", \"\", \"\", \"\", \"\", \"2\", \"\"],\n",
    "]"
   ]
  },
  {
   "cell_type": "markdown",
   "metadata": {},
   "source": [
    "Pick one of the examples"
   ]
  },
  {
   "cell_type": "code",
   "execution_count": 4,
   "metadata": {},
   "outputs": [],
   "source": [
    "game = mine_field2"
   ]
  },
  {
   "cell_type": "markdown",
   "metadata": {},
   "source": [
    "Create constraint solver"
   ]
  },
  {
   "cell_type": "code",
   "execution_count": 5,
   "metadata": {},
   "outputs": [],
   "source": [
    "solver = pywrapcp.Solver(\"Minesweeper\")"
   ]
  },
  {
   "cell_type": "code",
   "execution_count": 6,
   "metadata": {},
   "outputs": [
    {
     "name": "stdout",
     "output_type": "stream",
     "text": [
      "[[BooleanVar(0 .. 1), BooleanVar(0 .. 1), BooleanVar(0 .. 1), BooleanVar(0 .. 1), BooleanVar(0 .. 1), BooleanVar(0 .. 1), BooleanVar(0 .. 1), BooleanVar(0 .. 1)], [BooleanVar(0 .. 1), BooleanVar(0 .. 1), BooleanVar(0 .. 1), BooleanVar(0 .. 1), BooleanVar(0 .. 1), BooleanVar(0 .. 1), BooleanVar(0 .. 1), BooleanVar(0 .. 1)], [BooleanVar(0 .. 1), BooleanVar(0 .. 1), BooleanVar(0 .. 1), BooleanVar(0 .. 1), BooleanVar(0 .. 1), BooleanVar(0 .. 1), BooleanVar(0 .. 1), BooleanVar(0 .. 1)], [BooleanVar(0 .. 1), BooleanVar(0 .. 1), BooleanVar(0 .. 1), BooleanVar(0 .. 1), BooleanVar(0 .. 1), BooleanVar(0 .. 1), BooleanVar(0 .. 1), BooleanVar(0 .. 1)], [BooleanVar(0 .. 1), BooleanVar(0 .. 1), BooleanVar(0 .. 1), BooleanVar(0 .. 1), BooleanVar(0 .. 1), BooleanVar(0 .. 1), BooleanVar(0 .. 1), BooleanVar(0 .. 1)], [BooleanVar(0 .. 1), BooleanVar(0 .. 1), BooleanVar(0 .. 1), BooleanVar(0 .. 1), BooleanVar(0 .. 1), BooleanVar(0 .. 1), BooleanVar(0 .. 1), BooleanVar(0 .. 1)], [BooleanVar(0 .. 1), BooleanVar(0 .. 1), BooleanVar(0 .. 1), BooleanVar(0 .. 1), BooleanVar(0 .. 1), BooleanVar(0 .. 1), BooleanVar(0 .. 1), BooleanVar(0 .. 1)], [BooleanVar(0 .. 1), BooleanVar(0 .. 1), BooleanVar(0 .. 1), BooleanVar(0 .. 1), BooleanVar(0 .. 1), BooleanVar(0 .. 1), BooleanVar(0 .. 1), BooleanVar(0 .. 1)]]\n"
     ]
    }
   ],
   "source": [
    "# Create solution_grid\n",
    "solution_grid = {}\n",
    "\n",
    "x_max = len(game)\n",
    "y_max = len(game[0])\n",
    "\n",
    "solution_grid = [[solver.IntVar(0, 1) for _x in range(x_max)] for _y in range(y_max)]\n",
    "        \n",
    "neighbours = [-1, 0, 1]\n",
    "\n",
    "for x in range(x_max):\n",
    "        for y in range(y_max):\n",
    "            if game[x][y] not in \"\" and int(game[x][y]) >= 0:\n",
    "                solver.Add(solution_grid[x][y] == 0)\n",
    "                # this cell is the sum of all the surrounding cells\n",
    "                solver.Add(\n",
    "                    int(game[x][y]) == solver.Sum([solution_grid[x+ox][y+oy]\n",
    "                                       for ox in neighbours for oy in neighbours\n",
    "                                       if x + ox >=0 and\n",
    "                                          y + oy >=0 and\n",
    "                                          x + ox < x_max and\n",
    "                                          y + oy < y_max\n",
    "                                    ])\n",
    "                )\n",
    "                \n",
    "            if game[x][y] not in \"\":\n",
    "                # This cell cannot be a mine\n",
    "                solver.Add(solution_grid[x][y] == 0)\n",
    "                \n",
    "                \n",
    "print(solution_grid)"
   ]
  },
  {
   "cell_type": "markdown",
   "metadata": {},
   "source": [
    "Configure solver"
   ]
  },
  {
   "cell_type": "code",
   "execution_count": 7,
   "metadata": {},
   "outputs": [],
   "source": [
    "all_vars = list(np.concatenate(solution_grid))\n",
    "\n",
    "db = solver.Phase(all_vars, solver.INT_VAR_SIMPLE, solver.INT_VALUE_SIMPLE)"
   ]
  },
  {
   "cell_type": "markdown",
   "metadata": {},
   "source": [
    "Start solver"
   ]
  },
  {
   "cell_type": "code",
   "execution_count": 8,
   "metadata": {},
   "outputs": [
    {
     "name": "stdout",
     "output_type": "stream",
     "text": [
      "[ 1]\t[  ]\t[  ]\t[💣]\t[ 2]\t[  ]\t[💣]\t[ 1]\t\n",
      "\n",
      "[💣]\t[ 1]\t[ 2]\t[💣]\t[ 3]\t[  ]\t[  ]\t[ 1]\t\n",
      "\n",
      "[  ]\t[ 2]\t[  ]\t[ 1]\t[  ]\t[💣]\t[  ]\t[ 0]\t\n",
      "\n",
      "[💣]\t[ 2]\t[ 1]\t[  ]\t[  ]\t[ 2]\t[ 3]\t[ 1]\t\n",
      "\n",
      "[  ]\t[  ]\t[💣]\t[ 2]\t[  ]\t[💣]\t[  ]\t[💣]\t\n",
      "\n",
      "[ 1]\t[  ]\t[  ]\t[💣]\t[ 4]\t[ 3]\t[💣]\t[  ]\t\n",
      "\n",
      "[💣]\t[ 1]\t[  ]\t[💣]\t[ 4]\t[💣]\t[ 3]\t[💣]\t\n",
      "\n",
      "[ 1]\t[  ]\t[  ]\t[ 2]\t[💣]\t[ 2]\t[  ]\t[ 1]\t\n",
      "\n",
      "\n",
      "\n",
      "\n"
     ]
    }
   ],
   "source": [
    "solver.NewSearch(db)\n",
    "while solver.NextSolution():\n",
    "    pretty_print(solution_grid, game)"
   ]
  },
  {
   "cell_type": "markdown",
   "metadata": {},
   "source": [
    "Cleanup"
   ]
  },
  {
   "cell_type": "code",
   "execution_count": 9,
   "metadata": {},
   "outputs": [],
   "source": [
    "solver.EndSearch()"
   ]
  },
  {
   "cell_type": "markdown",
   "metadata": {},
   "source": [
    "Print solver information"
   ]
  },
  {
   "cell_type": "code",
   "execution_count": 10,
   "metadata": {},
   "outputs": [
    {
     "name": "stdout",
     "output_type": "stream",
     "text": [
      "Solutions: 1\n",
      "Runtime:   79ms\n",
      "Failures:  4\n",
      "Branches:  8 \n"
     ]
    }
   ],
   "source": [
    "print(\"Solutions: {}\".format(solver.Solutions()))\n",
    "print(\"Runtime:   {}ms\".format(solver.WallTime()))\n",
    "print(\"Failures:  {}\".format(solver.Failures()))\n",
    "print(\"Branches:  {} \".format(solver.Branches()))"
   ]
  }
 ],
 "metadata": {
  "jupytext": {
   "cell_metadata_filter": "-all",
   "main_language": "python",
   "notebook_metadata_filter": "-all",
   "text_representation": {
    "extension": ".py",
    "format_name": "percent"
   }
  },
  "kernelspec": {
   "display_name": "Python [default]",
   "language": "python",
   "name": "python3"
  },
  "language_info": {
   "codemirror_mode": {
    "name": "ipython",
    "version": 3
   },
   "file_extension": ".py",
   "mimetype": "text/x-python",
   "name": "python",
   "nbconvert_exporter": "python",
   "pygments_lexer": "ipython3",
   "version": "3.6.4"
  }
 },
 "nbformat": 4,
 "nbformat_minor": 2
}
