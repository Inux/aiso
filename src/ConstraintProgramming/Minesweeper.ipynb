{
 "cells": [
  {
   "cell_type": "markdown",
   "metadata": {},
   "source": [
    "# Minesweeper Puzzle"
   ]
  },
  {
   "cell_type": "markdown",
   "metadata": {},
   "source": [
    "The player is presented with a grid of squares. Some randomly selected squares, unknown to the player, contain mines. Other squares may display numbers indicating the count of mines present in the immediate neighborhood of the squares. Find all mines. \n",
    "\n",
    "See https://de.wikipedia.org/wiki/Minesweeper or go to http://minesweeperonline.com/ to play"
   ]
  },
  {
   "cell_type": "markdown",
   "metadata": {},
   "source": [
    "Imports"
   ]
  },
  {
   "cell_type": "code",
   "execution_count": 30,
   "metadata": {
    "lines_to_next_cell": 1
   },
   "outputs": [],
   "source": [
    "from ortools.constraint_solver import pywrapcp\n",
    "from itertools import product\n",
    "import numpy as np"
   ]
  },
  {
   "cell_type": "markdown",
   "metadata": {},
   "source": [
    "Pretty-print square minesweeper board"
   ]
  },
  {
   "cell_type": "code",
   "execution_count": 31,
   "metadata": {
    "lines_to_next_cell": 1
   },
   "outputs": [],
   "source": [
    "def pretty_print(mines, labels):\n",
    "    for i in range(len(labels)):\n",
    "        for j in range(len(labels)):\n",
    "            if mines[i][j].Value() == 1:\n",
    "                print(\"[💣]\\t\", end='')\n",
    "            elif labels[i][j] == \"\":\n",
    "                print(\"[  ]\\t\", end='')\n",
    "            else:\n",
    "                print(\"[ {}]\\t\".format(labels[i][j]), end='')\n",
    "        print(\"\\n\")\n",
    "    print(\"\\n\\n\")"
   ]
  },
  {
   "cell_type": "markdown",
   "metadata": {},
   "source": [
    "Some Minesweeper examples, the first one is from the lecture"
   ]
  },
  {
   "cell_type": "code",
   "execution_count": 32,
   "metadata": {},
   "outputs": [],
   "source": [
    "mine_field1 = [\n",
    "    [\"2\", \"\", \"\", \"\", \"1\"],\n",
    "    [\"2\", \"\", \"4\", \"3\", \"\"],\n",
    "    [\"\", \"2\", \"\", \"1\", \"\"],\n",
    "    [\"\", \"1\", \"\", \"3\", \"\"],\n",
    "    [\"1\", \"\", \"\", \"\", \"\"],\n",
    "]\n",
    "mine_field2 = [\n",
    "    [\"1\", \"\", \"\", \"\", \"2\", \"\", \"\", \"1\"],\n",
    "    [\"\", \"1\", \"2\", \"\", \"3\", \"\", \"\", \"1\"],\n",
    "    [\"\", \"2\", \"\", \"1\", \"\", \"\", \"\", \"0\"],\n",
    "    [\"\", \"2\", \"1\", \"\", \"\", \"2\", \"3\", \"1\"],\n",
    "    [\"\", \"\", \"\", \"2\", \"\", \"\", \"\", \"\"],\n",
    "    [\"1\", \"\", \"\", \"\", \"4\", \"3\", \"\", \"\"],\n",
    "    [\"\", \"1\", \"\", \"\", \"4\", \"\", \"3\", \"\"],\n",
    "    [\"1\", \"\", \"\", \"2\", \"\", \"2\", \"\", \"1\"],\n",
    "]\n",
    "mine_field3 = [\n",
    "    [\"\", \"\", \"\", \"\", \"\", \"1\", \"\", \"\"],\n",
    "    [\"1\", \"2\", \"2\", \"1\", \"\", \"\", \"1\", \"1\"],\n",
    "    [\"\", \"1\", \"\", \"\", \"\", \"\", \"\", \"\"],\n",
    "    [\"\", \"\", \"0\", \"\", \"\", \"1\", \"\", \"1\"],\n",
    "    [\"\", \"1\", \"\", \"\", \"\", \"\", \"\", \"\"],\n",
    "    [\"\", \"\", \"1\", \"\", \"2\", \"3\", \"\", \"\"],\n",
    "    [\"\", \"\", \"\", \"\", \"\", \"\", \"2\", \"1\"],\n",
    "    [\"\", \"1\", \"\", \"2\", \"2\", \"\", \"2\", \"\"],\n",
    "]\n",
    "mine_field4 = [\n",
    "    [\"1\", \"\", \"\", \"2\", \"\", \"2\", \"\", \"2\", \"\", \"\"],\n",
    "    [\"\", \"3\", \"2\", \"\", \"\", \"\", \"4\", \"\", \"\", \"1\"],\n",
    "    [\"\", \"\", \"\", \"1\", \"3\", \"\", \"\", \"\", \"4\", \"\"],\n",
    "    [\"3\", \"\", \"1\", \"\", \"\", \"\", \"3\", \"\", \"\", \"\"],\n",
    "    [\"\", \"2\", \"1\", \"\", \"1\", \"\", \"\", \"3\", \"\", \"2\"],\n",
    "    [\"\", \"3\", \"\", \"2\", \"\", \"\", \"2\", \"\", \"1\", \"\"],\n",
    "    [\"2\", \"\", \"\", \"3\", \"2\", \"\", \"\", \"2\", \"\", \"\"],\n",
    "    [\"\", \"3\", \"\", \"\", \"\", \"3\", \"2\", \"\", \"\", \"3\"],\n",
    "    [\"\", \"\", \"3\", \"\", \"3\", \"3\", \"\", \"\", \"\", \"\"],\n",
    "    [\"\", \"2\", \"\", \"2\", \"\", \"\", \"\", \"\", \"2\", \"\"],\n",
    "]"
   ]
  },
  {
   "cell_type": "markdown",
   "metadata": {},
   "source": [
    "Pick one of the examples"
   ]
  },
  {
   "cell_type": "code",
   "execution_count": 33,
   "metadata": {},
   "outputs": [],
   "source": [
    "game = mine_field1"
   ]
  },
  {
   "cell_type": "markdown",
   "metadata": {},
   "source": [
    "Create constraint solver"
   ]
  },
  {
   "cell_type": "code",
   "execution_count": 34,
   "metadata": {},
   "outputs": [],
   "source": [
    "solver = pywrapcp.Solver(\"Minesweeper\")"
   ]
  },
  {
   "cell_type": "code",
   "execution_count": 35,
   "metadata": {},
   "outputs": [
    {
     "ename": "TypeError",
     "evalue": "in method 'Solver_AddConstraint', argument 2 of type 'operations_research::Constraint *const'",
     "output_type": "error",
     "traceback": [
      "\u001b[0;31m---------------------------------------------------------------------------\u001b[0m",
      "\u001b[0;31mTypeError\u001b[0m                                 Traceback (most recent call last)",
      "\u001b[0;32m<ipython-input-35-6e7ffffee987>\u001b[0m in \u001b[0;36m<module>\u001b[0;34m()\u001b[0m\n\u001b[1;32m     24\u001b[0m                 game[x_index][y_index] == solver.Sum(\n\u001b[1;32m     25\u001b[0m                     [solution_grid[x_index + x_offset, y_index + y_offset]\n\u001b[0;32m---> 26\u001b[0;31m                     \u001b[0;32mfor\u001b[0m \u001b[0mx_offset\u001b[0m \u001b[0;32min\u001b[0m \u001b[0mneighbours\u001b[0m \u001b[0;32mfor\u001b[0m \u001b[0mb\u001b[0m \u001b[0;32min\u001b[0m \u001b[0mneighbours\u001b[0m\u001b[0;34m\u001b[0m\u001b[0m\n\u001b[0m\u001b[1;32m     27\u001b[0m                     \u001b[0;32mif\u001b[0m \u001b[0mx_index\u001b[0m \u001b[0;34m+\u001b[0m \u001b[0mx_offset\u001b[0m \u001b[0;34m>=\u001b[0m \u001b[0;36m0\u001b[0m \u001b[0;32mand\u001b[0m\u001b[0;34m\u001b[0m\u001b[0m\n\u001b[1;32m     28\u001b[0m                     \u001b[0my_index\u001b[0m \u001b[0;34m+\u001b[0m \u001b[0my_offset\u001b[0m \u001b[0;34m>=\u001b[0m \u001b[0;36m0\u001b[0m \u001b[0;32mand\u001b[0m\u001b[0;34m\u001b[0m\u001b[0m\n",
      "\u001b[0;32m~/.local/lib/python3.6/site-packages/ortools/constraint_solver/pywrapcp.py\u001b[0m in \u001b[0;36mAdd\u001b[0;34m(self, ct)\u001b[0m\n\u001b[1;32m    735\u001b[0m       \u001b[0;32mif\u001b[0m \u001b[0misinstance\u001b[0m\u001b[0;34m(\u001b[0m\u001b[0mct\u001b[0m\u001b[0;34m,\u001b[0m \u001b[0mPyConstraint\u001b[0m\u001b[0;34m)\u001b[0m\u001b[0;34m:\u001b[0m\u001b[0;34m\u001b[0m\u001b[0m\n\u001b[1;32m    736\u001b[0m         \u001b[0mself\u001b[0m\u001b[0;34m.\u001b[0m\u001b[0m__python_constraints\u001b[0m\u001b[0;34m.\u001b[0m\u001b[0mappend\u001b[0m\u001b[0;34m(\u001b[0m\u001b[0mct\u001b[0m\u001b[0;34m)\u001b[0m\u001b[0;34m\u001b[0m\u001b[0m\n\u001b[0;32m--> 737\u001b[0;31m       \u001b[0mself\u001b[0m\u001b[0;34m.\u001b[0m\u001b[0mAddConstraint\u001b[0m\u001b[0;34m(\u001b[0m\u001b[0mct\u001b[0m\u001b[0;34m)\u001b[0m\u001b[0;34m\u001b[0m\u001b[0m\n\u001b[0m\u001b[1;32m    738\u001b[0m \u001b[0;34m\u001b[0m\u001b[0m\n\u001b[1;32m    739\u001b[0m \u001b[0;34m\u001b[0m\u001b[0m\n",
      "\u001b[0;32m~/.local/lib/python3.6/site-packages/ortools/constraint_solver/pywrapcp.py\u001b[0m in \u001b[0;36mAddConstraint\u001b[0;34m(self, c)\u001b[0m\n\u001b[1;32m    195\u001b[0m \u001b[0;34m\u001b[0m\u001b[0m\n\u001b[1;32m    196\u001b[0m     \u001b[0;32mdef\u001b[0m \u001b[0mAddConstraint\u001b[0m\u001b[0;34m(\u001b[0m\u001b[0mself\u001b[0m\u001b[0;34m,\u001b[0m \u001b[0mc\u001b[0m\u001b[0;34m:\u001b[0m \u001b[0;34m'Constraint'\u001b[0m\u001b[0;34m)\u001b[0m \u001b[0;34m->\u001b[0m \u001b[0;34m\"void\"\u001b[0m\u001b[0;34m:\u001b[0m\u001b[0;34m\u001b[0m\u001b[0m\n\u001b[0;32m--> 197\u001b[0;31m         \u001b[0;32mreturn\u001b[0m \u001b[0m_pywrapcp\u001b[0m\u001b[0;34m.\u001b[0m\u001b[0mSolver_AddConstraint\u001b[0m\u001b[0;34m(\u001b[0m\u001b[0mself\u001b[0m\u001b[0;34m,\u001b[0m \u001b[0mc\u001b[0m\u001b[0;34m)\u001b[0m\u001b[0;34m\u001b[0m\u001b[0m\n\u001b[0m\u001b[1;32m    198\u001b[0m \u001b[0;34m\u001b[0m\u001b[0m\n\u001b[1;32m    199\u001b[0m     \u001b[0;32mdef\u001b[0m \u001b[0mSolve\u001b[0m\u001b[0;34m(\u001b[0m\u001b[0mself\u001b[0m\u001b[0;34m,\u001b[0m \u001b[0;34m*\u001b[0m\u001b[0margs\u001b[0m\u001b[0;34m)\u001b[0m \u001b[0;34m->\u001b[0m \u001b[0;34m\"bool\"\u001b[0m\u001b[0;34m:\u001b[0m\u001b[0;34m\u001b[0m\u001b[0m\n",
      "\u001b[0;31mTypeError\u001b[0m: in method 'Solver_AddConstraint', argument 2 of type 'operations_research::Constraint *const'"
     ]
    }
   ],
   "source": [
    "# Create solution_grid\n",
    "solution_grid = {}\n",
    "for x in range(len(game)):\n",
    "    for y in range(len(game[0])):\n",
    "        solution_grid[(x, y)] = solver.IntVar(0, 1)\n",
    "        \n",
    "\n",
    "x_max = len(game)\n",
    "y_max = len(game[0])\n",
    "\n",
    "neighbours = [-1, 0, 1]\n",
    "\n",
    "#iterate over all fields\n",
    "x_index = 0\n",
    "y_index = 0\n",
    "for x in game:\n",
    "    y_index = 0\n",
    "    for y in x:\n",
    "        if game[x_index][y_index] not in \"\" and int(game[x_index][y_index]) >= 0:\n",
    "            # assign to 0\n",
    "            solver.Add(solution_grid[x_index, y_index] == 0)\n",
    "                            \n",
    "            solver.Add(\n",
    "                game[x_index][y_index] == solver.Sum(\n",
    "                    [solution_grid[x_index + x_offset, y_index + y_offset]\n",
    "                    for x_offset in neighbours for b in neighbours\n",
    "                    if x_index + x_offset >= 0 and\n",
    "                    y_index + y_offset >= 0 and\n",
    "                    x_index + x_offset < x_max and\n",
    "                    y_index + y_offset < y_max]\n",
    "                )\n",
    "            )\n",
    "        \n",
    "        if game[x_index][y_index] in \"\":\n",
    "            solver.Add(solution_grid[x_index, y_index] == 0)\n",
    "        \n",
    "        y_index = y_index + 1\n",
    "\n",
    "    x_index = x_index + 1"
   ]
  },
  {
   "cell_type": "markdown",
   "metadata": {},
   "source": [
    "Configure solver"
   ]
  },
  {
   "cell_type": "code",
   "execution_count": 29,
   "metadata": {},
   "outputs": [
    {
     "ename": "NameError",
     "evalue": "name 'np' is not defined",
     "output_type": "error",
     "traceback": [
      "\u001b[0;31m---------------------------------------------------------------------------\u001b[0m",
      "\u001b[0;31mNameError\u001b[0m                                 Traceback (most recent call last)",
      "\u001b[0;32m<ipython-input-29-a1c0a237b33e>\u001b[0m in \u001b[0;36m<module>\u001b[0;34m()\u001b[0m\n\u001b[1;32m      1\u001b[0m \u001b[0;31m# Replace this by a list of decision varianles in your model\u001b[0m\u001b[0;34m\u001b[0m\u001b[0;34m\u001b[0m\u001b[0m\n\u001b[0;32m----> 2\u001b[0;31m \u001b[0mall_vars\u001b[0m \u001b[0;34m=\u001b[0m \u001b[0mlist\u001b[0m\u001b[0;34m(\u001b[0m\u001b[0mnp\u001b[0m\u001b[0;34m.\u001b[0m\u001b[0mconcatenate\u001b[0m\u001b[0;34m(\u001b[0m\u001b[0msolution_grid\u001b[0m\u001b[0;34m)\u001b[0m\u001b[0;34m)\u001b[0m\u001b[0;34m\u001b[0m\u001b[0m\n\u001b[0m\u001b[1;32m      3\u001b[0m \u001b[0;34m\u001b[0m\u001b[0m\n\u001b[1;32m      4\u001b[0m \u001b[0mdb\u001b[0m \u001b[0;34m=\u001b[0m \u001b[0msolver\u001b[0m\u001b[0;34m.\u001b[0m\u001b[0mPhase\u001b[0m\u001b[0;34m(\u001b[0m\u001b[0mall_vars\u001b[0m\u001b[0;34m,\u001b[0m \u001b[0msolver\u001b[0m\u001b[0;34m.\u001b[0m\u001b[0mINT_VAR_SIMPLE\u001b[0m\u001b[0;34m,\u001b[0m \u001b[0msolver\u001b[0m\u001b[0;34m.\u001b[0m\u001b[0mINT_VALUE_SIMPLE\u001b[0m\u001b[0;34m)\u001b[0m\u001b[0;34m\u001b[0m\u001b[0m\n",
      "\u001b[0;31mNameError\u001b[0m: name 'np' is not defined"
     ]
    }
   ],
   "source": [
    "# Replace this by a list of decision varianles in your model\n",
    "all_vars = list(np.concatenate(solution_grid))\n",
    "\n",
    "db = solver.Phase(all_vars, solver.INT_VAR_SIMPLE, solver.INT_VALUE_SIMPLE)"
   ]
  },
  {
   "cell_type": "markdown",
   "metadata": {},
   "source": [
    "Start solver"
   ]
  },
  {
   "cell_type": "code",
   "execution_count": null,
   "metadata": {},
   "outputs": [],
   "source": [
    "solver.NewSearch(db)\n",
    "while solver.NextSolution():\n",
    "    print('output solution here')"
   ]
  },
  {
   "cell_type": "markdown",
   "metadata": {},
   "source": [
    "Cleanup"
   ]
  },
  {
   "cell_type": "code",
   "execution_count": null,
   "metadata": {},
   "outputs": [],
   "source": [
    "solver.EndSearch()"
   ]
  },
  {
   "cell_type": "markdown",
   "metadata": {},
   "source": [
    "Print solver information"
   ]
  },
  {
   "cell_type": "code",
   "execution_count": null,
   "metadata": {},
   "outputs": [],
   "source": [
    "print(\"Solutions: {}\".format(solver.Solutions()))\n",
    "print(\"Runtime:   {}ms\".format(solver.WallTime()))\n",
    "print(\"Failures:  {}\".format(solver.Failures()))\n",
    "print(\"Branches:  {} \".format(solver.Branches()))"
   ]
  }
 ],
 "metadata": {
  "jupytext": {
   "cell_metadata_filter": "-all",
   "main_language": "python",
   "notebook_metadata_filter": "-all",
   "text_representation": {
    "extension": ".py",
    "format_name": "percent"
   }
  },
  "kernelspec": {
   "display_name": "Python [default]",
   "language": "python",
   "name": "python3"
  },
  "language_info": {
   "codemirror_mode": {
    "name": "ipython",
    "version": 3
   },
   "file_extension": ".py",
   "mimetype": "text/x-python",
   "name": "python",
   "nbconvert_exporter": "python",
   "pygments_lexer": "ipython3",
   "version": "3.6.4"
  }
 },
 "nbformat": 4,
 "nbformat_minor": 2
}
