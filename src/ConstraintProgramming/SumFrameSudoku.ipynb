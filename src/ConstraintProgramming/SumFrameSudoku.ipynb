{
 "cells": [
  {
   "cell_type": "markdown",
   "metadata": {},
   "source": [
    "# Sum Frame Sudoku puzzle"
   ]
  },
  {
   "cell_type": "markdown",
   "metadata": {},
   "source": [
    "Fill in numbers from 1 to 9 so that each row, column and 3x3 block contains each number exactly once.\n",
    "Numbers in the outside frame equal the sum of the first three numbers in the corresponding row or column\n",
    "in the given direction.\n",
    "\n",
    "Find more examples [here](http://frame-sudoku.blogspot.com)"
   ]
  },
  {
   "cell_type": "markdown",
   "metadata": {},
   "source": [
    "Imports"
   ]
  },
  {
   "cell_type": "code",
   "execution_count": 1,
   "metadata": {
    "lines_to_next_cell": 1
   },
   "outputs": [],
   "source": [
    "from ortools.constraint_solver import pywrapcp\n",
    "from itertools import product\n",
    "import numpy as np"
   ]
  },
  {
   "cell_type": "markdown",
   "metadata": {},
   "source": [
    "Pretty-print board"
   ]
  },
  {
   "cell_type": "code",
   "execution_count": 2,
   "metadata": {
    "lines_to_next_cell": 1
   },
   "outputs": [],
   "source": [
    "def pretty_print(board):\n",
    "    for i in range(len(board)):\n",
    "        for j in range(len(board)):\n",
    "            print(\"[{}] \".format(board[i][j].Value()), end='')\n",
    "        print(\"\\n\")\n",
    "    print(\"\\n\\n\")"
   ]
  },
  {
   "cell_type": "markdown",
   "metadata": {},
   "source": [
    "Sudoku puzzle from slides"
   ]
  },
  {
   "cell_type": "code",
   "execution_count": 3,
   "metadata": {},
   "outputs": [],
   "source": [
    "#top = [15, 18, 12, 11, 21, 13, 15, 17, 13]\n",
    "#right = [22, 8, 15, 22, 12, 11, 15, 13, 17]\n",
    "#bottom = [15, 9, 21, 10, 16, 19, 13, 15, 17]\n",
    "#left = [8, 15, 22, 11, 13, 21, 18, 19, 8]"
   ]
  },
  {
   "cell_type": "markdown",
   "metadata": {},
   "source": [
    "And another example (commented out)"
   ]
  },
  {
   "cell_type": "code",
   "execution_count": 4,
   "metadata": {},
   "outputs": [],
   "source": [
    "top = [21, 12, 12, 13, 14, 18, 10, 19, 16]\n",
    "right = [20, 15, 10, 22, 8, 15, 17, 15, 13]\n",
    "bottom = [17, 9, 19, 18, 13, 14, 23, 15, 7]\n",
    "left = [12, 12, 21, 14, 14, 17, 14, 9, 22]"
   ]
  },
  {
   "cell_type": "markdown",
   "metadata": {},
   "source": [
    "Create constraint solver"
   ]
  },
  {
   "cell_type": "code",
   "execution_count": 5,
   "metadata": {},
   "outputs": [],
   "source": [
    "solver = pywrapcp.Solver(\"Sum Frame Sudoku\")"
   ]
  },
  {
   "cell_type": "code",
   "execution_count": 6,
   "metadata": {},
   "outputs": [
    {
     "name": "stdout",
     "output_type": "stream",
     "text": [
      "rules for rows, columns...\n",
      "rules for 3x3 blocks...\n",
      "rules for top, right, bottom & left sums...\n"
     ]
    }
   ],
   "source": [
    "# Create Grid\n",
    "grid = [[solver.IntVar(1, 9) for _j in range(9)] for _i in range(9)]\n",
    "\n",
    "print(\"rules for rows, columns...\")\n",
    "for i in range(9):\n",
    "    solver.Add(solver.AllDifferent([grid[i][j] for j in range(9)])) # Rows \n",
    "    solver.Add(solver.AllDifferent([grid[j][i] for j in range(9)])) # Columns\n",
    "\n",
    "\n",
    "print(\"rules for 3x3 blocks...\")\n",
    "cell_indices = list(product(range(3), repeat=2))\n",
    "    \n",
    "for i, j in cell_indices: \n",
    "    solver.Add(solver.AllDifferent(\n",
    "        [grid[i * 3 + di][j * 3 + dj]\n",
    "                  for di in range(3)\n",
    "                  for dj in range(3)]))\n",
    "\n",
    "\n",
    "print(\"rules for top, right, bottom & left sums...\")\n",
    "#rules left\n",
    "for i in range(9):\n",
    "    sum = 0\n",
    "    for j in range(3):\n",
    "        sum = sum + grid[i][j]\n",
    "    solver.Add(left[i] == sum)\n",
    "    \n",
    "#rules right\n",
    "for i in range(9):\n",
    "    sum = 0\n",
    "    for j in range(3):\n",
    "        sum = sum + grid[i][6+j]\n",
    "    solver.Add(right[i] == sum)\n",
    "    \n",
    "#rules top\n",
    "for i in range(9):\n",
    "    sum = 0\n",
    "    for j in range(3):\n",
    "        sum = sum + grid[j][i]\n",
    "    solver.Add(top[i] == sum)\n",
    "    \n",
    "#rules bottom\n",
    "for i in range(9):\n",
    "    sum = 0\n",
    "    for j in range(3):\n",
    "        sum = sum + grid[8-j][i]\n",
    "    solver.Add(bottom[i] == sum)"
   ]
  },
  {
   "cell_type": "markdown",
   "metadata": {},
   "source": [
    "Configure solver"
   ]
  },
  {
   "cell_type": "code",
   "execution_count": 7,
   "metadata": {},
   "outputs": [],
   "source": [
    "# Replace this by a list of decision variables\n",
    "all_vars = list(np.concatenate(grid))\n",
    "\n",
    "db = solver.Phase(all_vars, solver.INT_VAR_SIMPLE, solver.INT_VALUE_SIMPLE)"
   ]
  },
  {
   "cell_type": "markdown",
   "metadata": {},
   "source": [
    "Start solver"
   ]
  },
  {
   "cell_type": "code",
   "execution_count": 8,
   "metadata": {},
   "outputs": [
    {
     "name": "stdout",
     "output_type": "stream",
     "text": [
      "[6] [5] [1] [2] [8] [3] [4] [9] [7] \n",
      "\n",
      "[7] [3] [2] [4] [5] [9] [1] [8] [6] \n",
      "\n",
      "[8] [4] [9] [7] [1] [6] [5] [2] [3] \n",
      "\n",
      "[1] [8] [5] [3] [2] [4] [7] [6] [9] \n",
      "\n",
      "[4] [7] [3] [6] [9] [8] [2] [1] [5] \n",
      "\n",
      "[2] [9] [6] [5] [7] [1] [3] [4] [8] \n",
      "\n",
      "[5] [1] [8] [9] [3] [2] [6] [7] [4] \n",
      "\n",
      "[3] [2] [4] [8] [6] [7] [9] [5] [1] \n",
      "\n",
      "[9] [6] [7] [1] [4] [5] [8] [3] [2] \n",
      "\n",
      "\n",
      "\n",
      "\n"
     ]
    }
   ],
   "source": [
    "solver.NewSearch(db)\n",
    "while solver.NextSolution():\n",
    "    pretty_print(grid)"
   ]
  },
  {
   "cell_type": "markdown",
   "metadata": {},
   "source": [
    "Cleanup"
   ]
  },
  {
   "cell_type": "code",
   "execution_count": 9,
   "metadata": {},
   "outputs": [],
   "source": [
    "solver.EndSearch()"
   ]
  },
  {
   "cell_type": "markdown",
   "metadata": {},
   "source": [
    "Print solver information"
   ]
  },
  {
   "cell_type": "code",
   "execution_count": 10,
   "metadata": {},
   "outputs": [
    {
     "name": "stdout",
     "output_type": "stream",
     "text": [
      "Solutions: 1\n",
      "Runtime:   173ms\n",
      "Failures:  463\n",
      "Branches:  926 \n"
     ]
    }
   ],
   "source": [
    "print(\"Solutions: {}\".format(solver.Solutions()))\n",
    "print(\"Runtime:   {}ms\".format(solver.WallTime()))\n",
    "print(\"Failures:  {}\".format(solver.Failures()))\n",
    "print(\"Branches:  {} \".format(solver.Branches()))"
   ]
  },
  {
   "cell_type": "code",
   "execution_count": null,
   "metadata": {},
   "outputs": [],
   "source": []
  }
 ],
 "metadata": {
  "jupytext": {
   "cell_metadata_filter": "-all",
   "main_language": "python",
   "notebook_metadata_filter": "-all",
   "text_representation": {
    "extension": ".py",
    "format_name": "percent"
   }
  },
  "kernelspec": {
   "display_name": "Python [default]",
   "language": "python",
   "name": "python3"
  },
  "language_info": {
   "codemirror_mode": {
    "name": "ipython",
    "version": 3
   },
   "file_extension": ".py",
   "mimetype": "text/x-python",
   "name": "python",
   "nbconvert_exporter": "python",
   "pygments_lexer": "ipython3",
   "version": "3.6.4"
  }
 },
 "nbformat": 4,
 "nbformat_minor": 2
}
