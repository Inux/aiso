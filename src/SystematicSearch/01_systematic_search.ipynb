{
 "cells": [
  {
   "cell_type": "markdown",
   "metadata": {},
   "source": [
    "# Testat Systematic Search\n",
    "\n",
    "## Info\n",
    "* All Questions answerd in the Document itself\n",
    "* Code can be found on https://github.com/Inux/aiso"
   ]
  },
  {
   "cell_type": "markdown",
   "metadata": {},
   "source": [
    "# Exercise Search Algorithms #\n"
   ]
  },
  {
   "cell_type": "markdown",
   "metadata": {},
   "source": [
    "In the last session, we prepared different classes that are useful to solve search problems. You completed the Node class that we can use now for our first search strategy *breadth_first_tree_search*.\n",
    "\n",
    "If you had problems implementing the node class, please come and see me. Without the Node class, you can't solve the following exercises.\n",
    "\n",
    "First, you need to implement the breadth first search strategy:\n",
    "\n",
    "Hints: \n",
    "- create the FIFO queue frontier using collections.py, that implements high performance data types. The collection.deque allows you to easily extend the queue with `frontier.append` and to remove items from the queue with `frontier.popleft()`\n",
    "- remember that you can access the children of a node with the following code: `node.expand(problem)`\n",
    "- return the goal node if you can find it\n"
   ]
  },
  {
   "cell_type": "code",
   "execution_count": 1,
   "metadata": {},
   "outputs": [],
   "source": [
    "%matplotlib inline\n",
    "\n",
    "from collections import deque\n",
    "from search import *\n",
    "\n",
    "def breadth_first_graph_search(problem):\n",
    "    n = Node(problem.initial)\n",
    "    \n",
    "    if problem.goal_test(n.state):\n",
    "        return n, 0, 0 #found the goal node\n",
    "    \n",
    "    frontier = deque([n]) #frontier\n",
    "    exp = set([n]) #explored\n",
    "    \n",
    "    while frontier:\n",
    "        n = frontier.popleft() #get new node\n",
    "        exp.add(n)\n",
    "        \n",
    "        for c in n.expand(problem):\n",
    "            visited = [n.state for n in frontier] + [n.state for n in exp]\n",
    "            if c.state not in visited:\n",
    "                if problem.goal_test(c.state):\n",
    "                    return c, len(exp), len(frontier) #found the goal node\n",
    "                \n",
    "                frontier.append(c)\n",
    "                \n",
    "    return None #no goal node found\n"
   ]
  },
  {
   "cell_type": "markdown",
   "metadata": {},
   "source": [
    "Lets create a map from the text book example:"
   ]
  },
  {
   "cell_type": "code",
   "execution_count": 2,
   "metadata": {},
   "outputs": [],
   "source": [
    "romania_map = UndirectedGraph(dict(\n",
    "    Arad=dict(Zerind=75, Sibiu=140, Timisoara=118),\n",
    "    Bucharest=dict(Urziceni=85, Pitesti=101, Giurgiu=90, Fagaras=211),\n",
    "    Craiova=dict(Drobeta=120, Rimnicu=146, Pitesti=138),\n",
    "    Drobeta=dict(Mehadia=75),\n",
    "    Eforie=dict(Hirsova=86),\n",
    "    Fagaras=dict(Sibiu=99),\n",
    "    Hirsova=dict(Urziceni=98),\n",
    "    Iasi=dict(Vaslui=92, Neamt=87),\n",
    "    Lugoj=dict(Timisoara=111, Mehadia=70),\n",
    "    Oradea=dict(Zerind=71, Sibiu=151),\n",
    "    Pitesti=dict(Rimnicu=97),\n",
    "    Rimnicu=dict(Sibiu=80),\n",
    "    Urziceni=dict(Vaslui=142)))\n",
    "romania_map.locations = dict(\n",
    "    Arad=(91, 492), Bucharest=(400, 327), Craiova=(253, 288),\n",
    "    Drobeta=(165, 299), Eforie=(562, 293), Fagaras=(305, 449),\n",
    "    Giurgiu=(375, 270), Hirsova=(534, 350), Iasi=(473, 506),\n",
    "    Lugoj=(165, 379), Mehadia=(168, 339), Neamt=(406, 537),\n",
    "    Oradea=(131, 571), Pitesti=(320, 368), Rimnicu=(233, 410),\n",
    "    Sibiu=(207, 457), Timisoara=(94, 410), Urziceni=(456, 350),\n",
    "    Vaslui=(509, 444), Zerind=(108, 531))"
   ]
  },
  {
   "cell_type": "markdown",
   "metadata": {},
   "source": [
    "With this, we can test our search algorithm. We define our problem and let the breadth first search find a solution."
   ]
  },
  {
   "cell_type": "markdown",
   "metadata": {},
   "source": [
    "The following code will show you some information about the search:"
   ]
  },
  {
   "cell_type": "code",
   "execution_count": 3,
   "metadata": {},
   "outputs": [],
   "source": [
    "def print_info_about_search(node, exp, stored):\n",
    "    print(\"The search algorithm reached \" + node.state + \" with a cost of \" + str(node.path_cost) + \".\")\n",
    "    path = node.path()\n",
    "    print(\"Nodes to visit: \" + str(len(path)))\n",
    "    print(\"Nodes explored: \" + str(exp))\n",
    "    print(\"Nodes stored: \" + str(stored))\n",
    "    \n",
    "    #directions = \"\"\n",
    "    #for n in path:\n",
    "    #    directions = directions + \" > \" + n.state\n",
    "    #print(\"The path is the following:\" + directions)\n",
    "    "
   ]
  },
  {
   "cell_type": "code",
   "execution_count": 4,
   "metadata": {},
   "outputs": [
    {
     "name": "stdout",
     "output_type": "stream",
     "text": [
      "The search algorithm reached Bucharest with a cost of 450.\n",
      "Nodes to visit: 4\n",
      "Nodes explored: 6\n",
      "Nodes stored: 2\n"
     ]
    }
   ],
   "source": [
    "start = 'Arad'\n",
    "goal = 'Bucharest'\n",
    "problem = GraphProblem(start, goal, romania_map)\n",
    "node, exp, stored = breadth_first_graph_search(problem)\n",
    "print_info_about_search(node, exp, stored)"
   ]
  },
  {
   "cell_type": "markdown",
   "metadata": {},
   "source": [
    "Congratulations, you have implemented your first search algorithm!\n",
    "\n",
    "## Swiss Railway System ##\n",
    "\n",
    "The SBB OpenData platform (https://data.sbb.ch/) provides all train lines and hubs (Betriebsknotenpunkte) of their railway system. I briefly mentioned the data set in the beginning.\n",
    "\n",
    "I created a SBB class that can be used to import the data from the json file:\n",
    "\n"
   ]
  },
  {
   "cell_type": "code",
   "execution_count": 5,
   "metadata": {},
   "outputs": [
    {
     "name": "stdout",
     "output_type": "stream",
     "text": [
      "successfully imported 2787 hubs\n",
      "successfully imported 401 train lines\n"
     ]
    }
   ],
   "source": [
    "from sbb import SBB\n",
    "\n",
    "sbb = SBB()\n",
    "sbb.importData('linie-mit-betriebspunkten.json')"
   ]
  },
  {
   "cell_type": "markdown",
   "metadata": {},
   "source": [
    "The object sbb contains know all the hubs and trainlines. We can visualize the hubs with matplotlib:"
   ]
  },
  {
   "cell_type": "code",
   "execution_count": 6,
   "metadata": {},
   "outputs": [],
   "source": [
    "import matplotlib.pyplot as plt\n",
    "\n",
    "\n",
    "def plot_hubs(hubs, labelNames = False):\n",
    "    fig = plt.figure(figsize=(10,10))\n",
    "    x =[]; y = []; names = [];\n",
    "    for h in hubs:\n",
    "        new_x = hubs[h].x\n",
    "        new_y = hubs[h].y\n",
    "        x.append(new_x)\n",
    "        y.append(new_y)\n",
    "        if labelNames:\n",
    "            plt.text(new_x+0.01, new_y+0.01, h, fontsize=9)              \n",
    "    plt.scatter(x,y, marker='.', color='black')  \n",
    "    plt.axis('equal')\n",
    "    \n",
    "#plot_hubs(sbb.hubs)"
   ]
  },
  {
   "cell_type": "markdown",
   "metadata": {},
   "source": [
    "With a little imagination and geographic knowledge you can recognize the different regions of Switzerland.\n",
    "\n",
    "We want to implement a search algorithm that finds the shortest way between 'Rotkreuz' and 'Thalwil'. In this exercise, we are not restricted to the official train lines. We can use the railway system with our own search agent and decide at each hub in which direction we want to go. If you have successfully implemented the classes above, the following code should execute and provide the directions between Rotkreuz and Zermatt."
   ]
  },
  {
   "cell_type": "markdown",
   "metadata": {},
   "source": [
    "##  More Uninformed Search Algorithms ##\n",
    "\n",
    "As you know, the breadth-search algorithm is just one of many search strategies. Implement the following search algorithms and evaluate their performance. You might have to adapt (or create a subclass) of certain classes we used before, to determine the depth of the search tree for example. You can use the PriorityQueue class below to implement the Uniform Cost Search.\n",
    "\n",
    "1. Depth First Search (DFS)\n",
    "1. Depth Limited Search (DLS)\n",
    "1. Iterative Deepening Search (IDS)\n",
    "1. Uniform Cost Search (UCS)\n",
    "\n",
    "Try to visualize which nodes (hubs) have been visited by the search algorithm. Create for each search strategy an image that shows the start, the goal, the solution path and all the visited nodes.\n",
    "\n",
    "Answer the following questions for each algorithm:\n",
    "\n",
    "1. How does your algorithm deal with loops? \n",
    "1. Can you make an estimate about the time and memory requirements? \n",
    "1. Is your algorithm complete and optimal?\n",
    "\n",
    "Fill the following table:\n",
    "\n",
    "| Algorithm | start   | goal | cost | number of nodes visited | maximal stored nodes | complete | optimal |\n",
    "|------|------|-----|-----|-----|-----|-----|-----|\n",
    "| BFS|Rotkreuz|Thalwil|36|17|154|yes|yes|\n",
    "| DFS|Rotkreuz|Thalwil|740|17|483|yes|yes|\n",
    "| DLS|Rotkreuz|Thalwil|no solution|no solution|no solution|no|no|\n",
    "| IDS|Rotkreuz|Thalwil|36|17|54|yes|yes|\n",
    "| UCS|Rotkreuz|Thalwil|36|147|120|yes|yes|\n",
    "\n",
    "\n",
    "\n",
    "What is special about the sbb railway map in terms of complexity (branching factor, depth)? How could you preprocess the data set in order to reduce the search space?\n"
   ]
  },
  {
   "cell_type": "code",
   "execution_count": 7,
   "metadata": {},
   "outputs": [],
   "source": [
    "import heapq\n",
    "\n",
    "class PriorityQueue:\n",
    "    \"\"\"A Queue in which the minimum (or maximum) element (as determined by f and\n",
    "    order) is returned first.\n",
    "    If order is 'min', the item with minimum f(x) is\n",
    "    returned first; if order is 'max', then it is the item with maximum f(x).\n",
    "    Also supports dict-like lookup.\"\"\"\n",
    "\n",
    "    def __init__(self, order='min', f=lambda x: x):\n",
    "        self.heap = []\n",
    "\n",
    "        if order == 'min':\n",
    "            self.f = f\n",
    "        elif order == 'max':  # now item with max f(x)\n",
    "            self.f = lambda x: -f(x)  # will be popped first\n",
    "        else:\n",
    "            raise ValueError(\"order must be either 'min' or max'.\")\n",
    "\n",
    "    def append(self, item):\n",
    "        \"\"\"Insert item at its correct position.\"\"\"\n",
    "        heapq.heappush(self.heap, (self.f(item), item))\n",
    "\n",
    "    def extend(self, items):\n",
    "        \"\"\"Insert each item in items at its correct position.\"\"\"\n",
    "        for item in items:\n",
    "            self.append(item)\n",
    "\n",
    "    def pop(self):\n",
    "        \"\"\"Pop and return the item (with min or max f(x) value\n",
    "        depending on the order.\"\"\"\n",
    "        if self.heap:\n",
    "            return heapq.heappop(self.heap)[1]\n",
    "        else:\n",
    "            raise Exception('Trying to pop from empty PriorityQueue.')\n",
    "\n",
    "    def __len__(self):\n",
    "        \"\"\"Return current capacity of PriorityQueue.\"\"\"\n",
    "        return len(self.heap)\n",
    "\n",
    "    def __contains__(self, item):\n",
    "        \"\"\"Return True if item in PriorityQueue.\"\"\"\n",
    "        return (self.f(item), item) in self.heap\n",
    "\n",
    "    def __getitem__(self, key):\n",
    "        for _, item in self.heap:\n",
    "            if item == key:\n",
    "                return item\n",
    "\n",
    "    def __delitem__(self, key):\n",
    "        \"\"\"Delete the first occurrence of key.\"\"\"\n",
    "        self.heap.remove((self.f(key), key))\n",
    "        heapq.heapify(self.heap)"
   ]
  },
  {
   "cell_type": "markdown",
   "metadata": {},
   "source": [
    "### Plotting"
   ]
  },
  {
   "cell_type": "code",
   "execution_count": 8,
   "metadata": {},
   "outputs": [],
   "source": [
    "def plot_it(node, start, goal):\n",
    "    fig = plt.figure(figsize=(10, 10))\n",
    "    \n",
    "    def get_lims_for_node(start, goal, zoom=0.3):\n",
    "        goal_hub = sbb.hubs[goal]\n",
    "        start_hub = sbb.hubs[start]\n",
    "        x = goal_hub.x - (goal_hub.x - start_hub.x) / 2.0\n",
    "        y = goal_hub.y - (goal_hub.y - start_hub.y) / 2.0\n",
    "        ylims = [y - zoom, y + zoom]\n",
    "        xlims = [x - zoom, x + zoom]\n",
    "        return xlims, ylims\n",
    "    \n",
    "    xlims, ylims = get_lims_for_node(start, goal)\n",
    "    \n",
    "    def plot_internal(hubs, color, labels=False):\n",
    "        if fig is None:\n",
    "            plt.figure(figsize=(10, 10))\n",
    "            \n",
    "        x = [hubs[name].x for name in hubs]\n",
    "        y = [hubs[name].y for name in hubs]\n",
    "        \n",
    "        plt.scatter(x, y, marker='.', color=color)\n",
    "        plt.axis('equal')\n",
    "        plt.axis('off')\n",
    "            \n",
    "        if ylims is not None:\n",
    "            plt.ylim(ylims)\n",
    "            \n",
    "        if xlims is not None:\n",
    "            plt.xlim(xlims)\n",
    "            \n",
    "        if labels:\n",
    "            for h in hubs:\n",
    "                if xlims is None or xlims[0] < hubs[h].x < xlims[1]:\n",
    "                    show_because_of_x = True\n",
    "                \n",
    "                if ylims is None or ylims[0] < hubs[h].y < ylims[1]:\n",
    "                    show_because_of_y = True\n",
    "                \n",
    "                if show_because_of_x and show_because_of_y:\n",
    "                    plt.text(hubs[h].x, hubs[h].y, h, fontsize=6)\n",
    "                    \n",
    "    solution_nodes = node.solution() if isinstance(node, Node) else []         \n",
    "    solution_hubs = {name: sbb.hubs[name] for name in sbb.hubs if name in solution_nodes}\n",
    "    start_hub = {name: sbb.hubs[name] for name in sbb.hubs if name == start}\n",
    "    goal_hub = {name: sbb.hubs[name] for name in sbb.hubs if name == goal}\n",
    "    \n",
    "    plot_internal(sbb.hubs, 'silver')\n",
    "    plot_internal(solution_hubs, 'orange')\n",
    "    plot_internal(start_hub, 'green')\n",
    "    plot_internal(goal_hub, 'red')\n",
    "    plt.gca().legend(('all', 'solution', 'start', 'goal'))\n",
    "    plt.show()"
   ]
  },
  {
   "cell_type": "code",
   "execution_count": 9,
   "metadata": {},
   "outputs": [
    {
     "name": "stdout",
     "output_type": "stream",
     "text": [
      "The search algorithm reached Thalwil with a cost of 36.906.\n",
      "Nodes to visit: 17\n",
      "Nodes explored: 136\n",
      "Nodes stored: 18\n"
     ]
    },
    {
     "data": {
      "image/png": "[encoded data removed]",
      "text/plain": [
       "<matplotlib.figure.Figure at 0x11ae811d0>"
      ]
     },
     "metadata": {},
     "output_type": "display_data"
    }
   ],
   "source": [
    "start = 'Rotkreuz'\n",
    "goal = 'Thalwil'\n",
    "sbb_map = UndirectedGraph(sbb.createMap())\n",
    "problem = GraphProblem(start, goal, sbb_map)\n",
    "node, exp, stored = breadth_first_graph_search(problem)\n",
    "print_info_about_search(node, exp, stored)\n",
    "plot_it(node, start, goal)"
   ]
  },
  {
   "cell_type": "markdown",
   "metadata": {},
   "source": [
    "### Depth First Search"
   ]
  },
  {
   "cell_type": "code",
   "execution_count": 10,
   "metadata": {},
   "outputs": [
    {
     "name": "stdout",
     "output_type": "stream",
     "text": [
      "The search algorithm reached Thalwil with a cost of 740.0659999999996.\n",
      "Nodes to visit: 309\n",
      "Nodes explored: 937\n",
      "Nodes stored: 81\n"
     ]
    },
    {
     "data": {
      "image/png": "[encoded data removed]",
      "text/plain": [
       "<matplotlib.figure.Figure at 0x11ae9f470>"
      ]
     },
     "metadata": {},
     "output_type": "display_data"
    }
   ],
   "source": [
    "def depth_first_search(problem):\n",
    "    n = Node(problem.initial)\n",
    "    \n",
    "    if problem.goal_test(n.state):\n",
    "        return n, 0, 0 #found the goal node\n",
    "    \n",
    "    frontier = deque([n]) #frontier\n",
    "    exp = set([n]) #explored\n",
    "    \n",
    "    while frontier:\n",
    "        n = frontier.pop() #get new node\n",
    "        exp.add(n)\n",
    "        \n",
    "        if problem.goal_test(n.state):\n",
    "            return n, len(exp), len(frontier) #found the goal node\n",
    "        \n",
    "        for c in n.expand(problem):\n",
    "            visited = [n.state for n in frontier] + [n.state for n in exp]\n",
    "            if c.state not in visited:\n",
    "                frontier.append(c)\n",
    "                \n",
    "    return None, len(exp), len(frontier) #no goal node found\n",
    "\n",
    "node, exp, stored = depth_first_search(problem)\n",
    "print_info_about_search(node, exp, stored)\n",
    "plot_it(node, start, goal)"
   ]
  },
  {
   "cell_type": "markdown",
   "metadata": {},
   "source": [
    "### Depth Limited Search"
   ]
  },
  {
   "cell_type": "code",
   "execution_count": 11,
   "metadata": {},
   "outputs": [
    {
     "name": "stdout",
     "output_type": "stream",
     "text": [
      "The search algorithm reached Thalwil with a cost of 740.0659999999996.\n",
      "Nodes to visit: 309\n",
      "Nodes explored: 16\n",
      "Nodes stored: 0\n"
     ]
    },
    {
     "data": {
      "image/png": "[encoded data removed]",
      "text/plain": [
       "<matplotlib.figure.Figure at 0x11b44b2e8>"
      ]
     },
     "metadata": {},
     "output_type": "display_data"
    }
   ],
   "source": [
    "def depth_limited_search(n, prob, l, exp=0):\n",
    "    if prob.goal_test(n.state):\n",
    "        return n, exp # found goal node\n",
    "    \n",
    "    elif l == 0:\n",
    "        return True, exp\n",
    "    \n",
    "    else:\n",
    "        cut = False\n",
    "        for c in n.expand(prob):\n",
    "            r, exp = depth_limited_search(c, prob, l-1, exp+1)\n",
    "            \n",
    "            if isinstance(r, Node):\n",
    "                return r, exp\n",
    "            elif r is True:\n",
    "                c = True\n",
    "                \n",
    "        if c is True:\n",
    "            return True, exp\n",
    "        else:\n",
    "            return False, exp\n",
    "        \n",
    "n, exp = depth_limited_search(Node(problem.initial), problem, 20, 0)\n",
    "print_info_about_search(node, exp, 0)\n",
    "plot_it(n, start, goal)"
   ]
  },
  {
   "cell_type": "markdown",
   "metadata": {},
   "source": [
    "### Depth First Search"
   ]
  },
  {
   "cell_type": "code",
   "execution_count": 12,
   "metadata": {},
   "outputs": [
    {
     "name": "stdout",
     "output_type": "stream",
     "text": [
      "The search algorithm reached Thalwil with a cost of 740.0659999999996.\n",
      "Nodes to visit: 309\n",
      "Nodes explored: 3446220\n",
      "Nodes stored: 0\n"
     ]
    },
    {
     "data": {
      "image/png": "[encoded data removed]",
      "text/plain": [
       "<matplotlib.figure.Figure at 0x11b3d0c88>"
      ]
     },
     "metadata": {},
     "output_type": "display_data"
    }
   ],
   "source": [
    "def depth_first_search(prob, exp=0):\n",
    "    limit = 1\n",
    "    iteration = 0\n",
    "    max_iterations = 10000\n",
    "    while iteration < max_iterations:\n",
    "        iteration = iteration + 1\n",
    "        r, exp = depth_limited_search(Node(prob.initial), prob, limit, exp)\n",
    "        \n",
    "        if isinstance(r, Node):\n",
    "            return r, exp\n",
    "        elif r is False:\n",
    "            return None, exp\n",
    "        else: \n",
    "            limit = limit + 1\n",
    "            \n",
    "n, exp = depth_first_search(problem, 0)\n",
    "print_info_about_search(node, exp, 0)\n",
    "plot_it(n, start, goal)"
   ]
  },
  {
   "cell_type": "markdown",
   "metadata": {},
   "source": [
    "### Uniform Cost Search"
   ]
  },
  {
   "cell_type": "code",
   "execution_count": 13,
   "metadata": {},
   "outputs": [
    {
     "ename": "TypeError",
     "evalue": "'<' not supported between instances of 'Node' and 'Node'",
     "output_type": "error",
     "traceback": [
      "\u001b[0;31m--------------------------------------------------------------\u001b[0m",
      "\u001b[0;31mTypeError\u001b[0m                    Traceback (most recent call last)",
      "\u001b[0;32m<ipython-input-13-0f49a3a7431d>\u001b[0m in \u001b[0;36m<module>\u001b[0;34m()\u001b[0m\n\u001b[1;32m     25\u001b[0m     \u001b[0;32mreturn\u001b[0m \u001b[0;32mNone\u001b[0m\u001b[0;34m,\u001b[0m \u001b[0mlen\u001b[0m\u001b[0;34m(\u001b[0m\u001b[0mexp\u001b[0m\u001b[0;34m)\u001b[0m\u001b[0;34m,\u001b[0m \u001b[0mlen\u001b[0m\u001b[0;34m(\u001b[0m\u001b[0mfrontier\u001b[0m\u001b[0;34m)\u001b[0m\u001b[0;34m\u001b[0m\u001b[0m\n\u001b[1;32m     26\u001b[0m \u001b[0;34m\u001b[0m\u001b[0m\n\u001b[0;32m---> 27\u001b[0;31m \u001b[0mn\u001b[0m\u001b[0;34m,\u001b[0m \u001b[0mexp\u001b[0m\u001b[0;34m,\u001b[0m \u001b[0mstored\u001b[0m \u001b[0;34m=\u001b[0m \u001b[0muniform_cost_search\u001b[0m\u001b[0;34m(\u001b[0m\u001b[0mproblem\u001b[0m\u001b[0;34m)\u001b[0m\u001b[0;34m\u001b[0m\u001b[0m\n\u001b[0m\u001b[1;32m     28\u001b[0m \u001b[0mprint_info_about_search\u001b[0m\u001b[0;34m(\u001b[0m\u001b[0mnode\u001b[0m\u001b[0;34m,\u001b[0m \u001b[0mexp\u001b[0m\u001b[0;34m,\u001b[0m \u001b[0mstored\u001b[0m\u001b[0;34m)\u001b[0m\u001b[0;34m\u001b[0m\u001b[0m\n\u001b[1;32m     29\u001b[0m \u001b[0mplot_it\u001b[0m\u001b[0;34m(\u001b[0m\u001b[0mnode\u001b[0m\u001b[0;34m,\u001b[0m \u001b[0mstart\u001b[0m\u001b[0;34m,\u001b[0m \u001b[0mgoal\u001b[0m\u001b[0;34m)\u001b[0m\u001b[0;34m\u001b[0m\u001b[0m\n",
      "\u001b[0;32m<ipython-input-13-0f49a3a7431d>\u001b[0m in \u001b[0;36muniform_cost_search\u001b[0;34m(prob)\u001b[0m\n\u001b[1;32m      7\u001b[0m \u001b[0;34m\u001b[0m\u001b[0m\n\u001b[1;32m      8\u001b[0m     \u001b[0;32mwhile\u001b[0m \u001b[0mfrontier\u001b[0m\u001b[0;34m:\u001b[0m\u001b[0;34m\u001b[0m\u001b[0m\n\u001b[0;32m----> 9\u001b[0;31m         \u001b[0mn\u001b[0m \u001b[0;34m=\u001b[0m \u001b[0mfrontier\u001b[0m\u001b[0;34m.\u001b[0m\u001b[0mpop\u001b[0m\u001b[0;34m(\u001b[0m\u001b[0;34m)\u001b[0m\u001b[0;34m\u001b[0m\u001b[0m\n\u001b[0m\u001b[1;32m     10\u001b[0m \u001b[0;34m\u001b[0m\u001b[0m\n\u001b[1;32m     11\u001b[0m         \u001b[0;32mif\u001b[0m \u001b[0mprob\u001b[0m\u001b[0;34m.\u001b[0m\u001b[0mgoal_test\u001b[0m\u001b[0;34m(\u001b[0m\u001b[0mn\u001b[0m\u001b[0;34m.\u001b[0m\u001b[0mstate\u001b[0m\u001b[0;34m)\u001b[0m\u001b[0;34m:\u001b[0m\u001b[0;34m\u001b[0m\u001b[0m\n",
      "\u001b[0;32m<ipython-input-7-75fa76265548>\u001b[0m in \u001b[0;36mpop\u001b[0;34m(self)\u001b[0m\n\u001b[1;32m     31\u001b[0m         depending on the order.\"\"\"\n\u001b[1;32m     32\u001b[0m         \u001b[0;32mif\u001b[0m \u001b[0mself\u001b[0m\u001b[0;34m.\u001b[0m\u001b[0mheap\u001b[0m\u001b[0;34m:\u001b[0m\u001b[0;34m\u001b[0m\u001b[0m\n\u001b[0;32m---> 33\u001b[0;31m             \u001b[0;32mreturn\u001b[0m \u001b[0mheapq\u001b[0m\u001b[0;34m.\u001b[0m\u001b[0mheappop\u001b[0m\u001b[0;34m(\u001b[0m\u001b[0mself\u001b[0m\u001b[0;34m.\u001b[0m\u001b[0mheap\u001b[0m\u001b[0;34m)\u001b[0m\u001b[0;34m[\u001b[0m\u001b[0;36m1\u001b[0m\u001b[0;34m]\u001b[0m\u001b[0;34m\u001b[0m\u001b[0m\n\u001b[0m\u001b[1;32m     34\u001b[0m         \u001b[0;32melse\u001b[0m\u001b[0;34m:\u001b[0m\u001b[0;34m\u001b[0m\u001b[0m\n\u001b[1;32m     35\u001b[0m             \u001b[0;32mraise\u001b[0m \u001b[0mException\u001b[0m\u001b[0;34m(\u001b[0m\u001b[0;34m'Trying to pop from empty PriorityQueue.'\u001b[0m\u001b[0;34m)\u001b[0m\u001b[0;34m\u001b[0m\u001b[0m\n",
      "\u001b[0;31mTypeError\u001b[0m: '<' not supported between instances of 'Node' and 'Node'"
     ]
    }
   ],
   "source": [
    "def uniform_cost_search(prob):\n",
    "    n = Node(prob.initial)\n",
    "    \n",
    "    frontier = PriorityQueue('min', lambda n: n.path_cost)\n",
    "    frontier.append(n)\n",
    "    exp = set([n])\n",
    "    \n",
    "    while frontier:\n",
    "        n = frontier.pop()\n",
    "        \n",
    "        if prob.goal_test(n.state):\n",
    "            return n, len(exp), len(frontier)\n",
    "        \n",
    "        exp.add(n)\n",
    "        \n",
    "        for c in n.expand(prob):\n",
    "            if c not in frontier and c.state not in exp:\n",
    "                frontier.append(c)\n",
    "            else:\n",
    "                visited = [n for _, n in frontier.heap if n.state == c.state]\n",
    "                if visited:\n",
    "                    del frontier[visited[0]]\n",
    "                    frontier.append(c)\n",
    "                    \n",
    "    return None, len(exp), len(frontier)\n",
    "\n",
    "n, exp, stored = uniform_cost_search(problem)\n",
    "print_info_about_search(node, exp, stored)\n",
    "plot_it(node, start, goal)"
   ]
  },
  {
   "cell_type": "code",
   "execution_count": null,
   "metadata": {},
   "outputs": [],
   "source": []
  }
 ],
 "metadata": {
  "kernelspec": {
   "display_name": "Python [default]",
   "language": "python",
   "name": "python3"
  },
  "language_info": {
   "codemirror_mode": {
    "name": "ipython",
    "version": 3
   },
   "file_extension": ".py",
   "mimetype": "text/x-python",
   "name": "python",
   "nbconvert_exporter": "python",
   "pygments_lexer": "ipython3",
   "version": "3.6.4"
  }
 },
 "nbformat": 4,
 "nbformat_minor": 2
}
